{
 "cells": [
  {
   "cell_type": "code",
   "execution_count": 11,
   "id": "1f1edf3d-c5a7-42ee-aa31-c78953cd490d",
   "metadata": {},
   "outputs": [
    {
     "name": "stdout",
     "output_type": "stream",
     "text": [
      "<class 'pandas.core.frame.DataFrame'>\n",
      "RangeIndex: 16512 entries, 0 to 16511\n",
      "Data columns (total 14 columns):\n",
      " #   Column              Non-Null Count  Dtype  \n",
      "---  ------              --------------  -----  \n",
      " 0   Unnamed: 0          16512 non-null  int64  \n",
      " 1   longitude           16512 non-null  float64\n",
      " 2   latitude            16512 non-null  float64\n",
      " 3   housing_median_age  16512 non-null  float64\n",
      " 4   total_rooms         16512 non-null  float64\n",
      " 5   total_bedrooms      16344 non-null  float64\n",
      " 6   population          16512 non-null  float64\n",
      " 7   households          16512 non-null  float64\n",
      " 8   median_income       16512 non-null  float64\n",
      " 9   median_house_value  16512 non-null  float64\n",
      " 10  ocean_proximity     16512 non-null  object \n",
      " 11  rooms_per_house     16512 non-null  float64\n",
      " 12  bedrooms_ratio      16344 non-null  float64\n",
      " 13  people_per_house    16512 non-null  float64\n",
      "dtypes: float64(12), int64(1), object(1)\n",
      "memory usage: 1.8+ MB\n"
     ]
    }
   ],
   "source": [
    "# Import Data\n",
    "\n",
    "import pandas as pd\n",
    "# The raw content URL for the CSV file on GitHub\n",
    "url = \"https://raw.githubusercontent.com/MikeysPetSnakeCollection/cmse492_aml/main/ca_housing_project/Data/Raw/housing.csv\"\n",
    "# Load the data directly from the URL into a pandas DataFrame\n",
    "housing = pd.read_csv(url)\n",
    "\n",
    "\n",
    "\n",
    "# The raw content URL for the CSV file on GitHub\n",
    "url = \"https://raw.githubusercontent.com/MikeysPetSnakeCollection/cmse492_aml/main/ca_housing_project/Data/Train/housing_train.csv\"\n",
    "# Load the data directly from the URL into a pandas DataFrame\n",
    "housing_train = pd.read_csv(url)\n",
    "housing_train.info()\n",
    "\n",
    "\n",
    "\n",
    "\n",
    "\n"
   ]
  },
  {
   "cell_type": "code",
   "execution_count": null,
   "id": "cea1057c-982d-4cfe-bd3c-9fa8a49e73a5",
   "metadata": {},
   "outputs": [],
   "source": [
    "#Geographic Data Visualization\n",
    "\n",
    "\n",
    "#Geographical data plots\n",
    "housing.plot(kind=\"scatter\", x=\"longitude\", y=\"latitude\", grid=True, alpha=0.2)\n",
    "plt.show()\n",
    "\n"
   ]
  },
  {
   "cell_type": "code",
   "execution_count": null,
   "id": "ae857edb-1600-4082-aed1-4294fe44dcbb",
   "metadata": {},
   "outputs": [],
   "source": [
    "#Feature Correlation Analysis\n",
    "\n",
    "\n",
    "#Correlation Matrix\n",
    "corr_matrix = housing.corr()\n",
    "corr_matrix[\"median_house_value\"].sort_values(ascending=False)\n",
    "\n",
    "#Scatter Matrix\n",
    "from pandas.plotting import scatter_matrix\n",
    " attributes = [\"median_house_value\", \"median_income\", \"total_rooms\",\n",
    " \"housing_median_age\"]\n",
    " scatter_matrix(housing[attributes], figsize=(12, 8))\n",
    "plt.show()\n",
    "\n"
   ]
  },
  {
   "cell_type": "code",
   "execution_count": null,
   "id": "c9808133-3acc-42ac-a1e5-703dd2010c3a",
   "metadata": {},
   "outputs": [],
   "source": [
    "#Feature Engineering and Creation\n",
    "# cluster similarities, incorporate clusters into data\n",
    "\n",
    "\n",
    "\n",
    "\n",
    "\n"
   ]
  }
 ],
 "metadata": {
  "kernelspec": {
   "display_name": "Python [conda env:CMSE]",
   "language": "python",
   "name": "conda-env-CMSE-py"
  },
  "language_info": {
   "codemirror_mode": {
    "name": "ipython",
    "version": 3
   },
   "file_extension": ".py",
   "mimetype": "text/x-python",
   "name": "python",
   "nbconvert_exporter": "python",
   "pygments_lexer": "ipython3",
   "version": "3.12.11"
  }
 },
 "nbformat": 4,
 "nbformat_minor": 5
}
