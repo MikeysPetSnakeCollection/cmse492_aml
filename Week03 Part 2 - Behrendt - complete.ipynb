{
 "cells": [
  {
   "cell_type": "markdown",
   "metadata": {},
   "source": [
    "# Week 03: In Class Assignment: End-to-End Project (Part 2)\n",
    "\n",
    "### <p style=\"text-align: right;\"> &#9989; Behrendt, Michael\n",
    "<p style=\"text-align: right;\"> &#9989; Garland, Logan; Aslam, Shawn; Gahramanov, Mazhar,Fatima"
   ]
  },
  {
   "cell_type": "markdown",
   "metadata": {},
   "source": [
    "## Table of Contents\n",
    "\n",
    "- [Instructions](#instructions)\n",
    "- [Part 1. Organization](#part-1.-organization)\n",
    "- [Part 2. Regression](#part-2.-regression)\n",
    "- [Part 3. Cross-validation](#part-3.-cross-validation)\n",
    "- [Part 4: Hyperparameter Tuning/Optimization](#part-4:-hyperparameter-tuning/optimization)\n",
    "- [Congratulations, you’re done!](#congratulations,-you’re-done!)"
   ]
  },
  {
   "cell_type": "markdown",
   "metadata": {
    "id": "WYJy2FQ6gqKv",
    "tags": [
     "text answer"
    ]
   },
   "source": [
    "![houses](https://www.mercurynews.com/wp-content/uploads/2017/04/oo24dg-web0409buslrealtrendsrisk02.jpg)\n",
    "\n",
    "\n",
    "<h1><center> <font color='green'>Machine Learning Housing Corp.</font></h1></center>\n",
    "\n",
    "This In Class Assignment completes what you have done last week with the Pre-Class and In-Class assignment. \n",
    "\n",
    "## Instructions\n",
    "\n",
    "#### 👥 **Group Collaboration**\n",
    "\n",
    "*   Introduce yourself to your group members and share a bit about your background.\n",
    "*   Divide the work **evenly** among group members.\n",
    "*   **Read the entire notebook first** before starting—this helps you plan, divide tasks intelligently, and understand the flow.\n",
    "* Each of the sections below follow through the process described in the textbook and the notebook that comes with it. Read through that notebook and follow the steps in there. As you work through the notebook, answer the questions below. \n",
    "\n",
    "\n",
    "#### 🕒 **Time Management**\n",
    "\n",
    "*   The notebook is **due at the end of class today**. Submit it to **D2L**.\n",
    "*   Don’t worry if you don’t finish everything—just do your best.\n",
    "*   If you get stuck, **write out your ideas** for what you would have done. This shows your thought process and effort.\n",
    "\n",
    "#### 🚀 **Work Strategy**\n",
    "\n",
    "*   The problems get more **interesting and challenging** as you go.\n",
    "*   Move quickly through the early “easy” parts so you have time for the deeper problems later.\n",
    "\n",
    "\n",
    "#### 📝 **Answer Formatting Guidelines**\n",
    "\n",
    "✏️ **Text Answers**\n",
    "\n",
    "*   Write your answers in **Markdown cells**.\n",
    "*   Begin each answer with:\\\n",
    "    `✏️ **Answer:**`\n",
    "*   **Do not delete or modify** this marker—it is used to parse your responses.\n",
    "\n",
    "🧪 **Code Answers**\n",
    "\n",
    "*   Write your code in **Code cells**.\n",
    "*   Begin each code cell with:\\\n",
    "    `### ANSWER`\n",
    "*   If you add new code cells, make sure to include `### ANSWER` at the top.\n",
    "\n",
    "These markers help instructors and automated tools **identify and extract your answers** efficiently.\n",
    "\n",
    "### Submission\n",
    "\n",
    "Please follow the format below when typing your names in the notebook. This is **mandatory** for all group submissions.\n",
    "**Each student** will turn in a notebook. Note that this is different from the first ICA. You will still work together, but you will come up with your own answers.\n",
    "\n",
    "- Each member's name must be written in the format:  \n",
    "  **Last Name, First Name, Second Name**\n",
    "- Separate each member's name with a **semicolon (;)**\n",
    "- Do **not** include any extra text or formatting.\n",
    "- **Delete this instruction text** and replace it with your names.\n",
    "\n",
    "#### Example:\n",
    "    Doe, Jane Marie; Smith, John Alan; Lee, Anna Grace;\n",
    "\n",
    "⚠️ **Failure to follow this format will result in a reduction of your grade.**\n",
    "\n",
    "Put your names in the next markdown cell\n",
    "\n"
   ]
  },
  {
   "cell_type": "markdown",
   "metadata": {},
   "source": [
    "_Remove this text and add your names_"
   ]
  },
  {
   "cell_type": "markdown",
   "metadata": {
    "tags": [
     "task"
    ]
   },
   "source": [
    "## Part 1. Organization\n",
    "\n",
    "Last time you explored the nature of the problem, what the data generally looked like and examined some properties, such as correlations and statistics (thanks to nice functionality in `pandas`),  cleaned the data before it goes into ML algorithms. Now it is time to apply the ML algorithms and get a prediction.\n",
    "\n",
    "Each of the sections below follow through the process described in the textbook and the notebook that comes with it. Read through that notebook and follow the steps in there. As you work through the notebook, answer the questions below. \n",
    "\n",
    "The notebook of Chapter 2 contains all the code used in the chapter, but we don't need all of it. In fact, the textbook shows you multiple ways to do the same thing. Since we want to be able to work with the dataset and run our own ML, I have copied and modified the code relevant for this assignment\n",
    "\n",
    "🗒️ **Task:** Write the path to your `housing` dataset then run the following and fix any error you might get."
   ]
  },
  {
   "cell_type": "code",
   "execution_count": 11,
   "metadata": {
    "tags": [
     "code answer"
    ]
   },
   "outputs": [
    {
     "data": {
      "text/plain": [
       "<bound method DataFrame.info of        longitude  latitude  housing_median_age  total_rooms  total_bedrooms  \\\n",
       "0        -122.23     37.88                41.0        880.0           129.0   \n",
       "1        -122.22     37.86                21.0       7099.0          1106.0   \n",
       "2        -122.24     37.85                52.0       1467.0           190.0   \n",
       "3        -122.25     37.85                52.0       1274.0           235.0   \n",
       "4        -122.25     37.85                52.0       1627.0           280.0   \n",
       "...          ...       ...                 ...          ...             ...   \n",
       "20635    -121.09     39.48                25.0       1665.0           374.0   \n",
       "20636    -121.21     39.49                18.0        697.0           150.0   \n",
       "20637    -121.22     39.43                17.0       2254.0           485.0   \n",
       "20638    -121.32     39.43                18.0       1860.0           409.0   \n",
       "20639    -121.24     39.37                16.0       2785.0           616.0   \n",
       "\n",
       "       population  households  median_income  median_house_value  \\\n",
       "0           322.0       126.0         8.3252            452600.0   \n",
       "1          2401.0      1138.0         8.3014            358500.0   \n",
       "2           496.0       177.0         7.2574            352100.0   \n",
       "3           558.0       219.0         5.6431            341300.0   \n",
       "4           565.0       259.0         3.8462            342200.0   \n",
       "...           ...         ...            ...                 ...   \n",
       "20635       845.0       330.0         1.5603             78100.0   \n",
       "20636       356.0       114.0         2.5568             77100.0   \n",
       "20637      1007.0       433.0         1.7000             92300.0   \n",
       "20638       741.0       349.0         1.8672             84700.0   \n",
       "20639      1387.0       530.0         2.3886             89400.0   \n",
       "\n",
       "      ocean_proximity  \n",
       "0            NEAR BAY  \n",
       "1            NEAR BAY  \n",
       "2            NEAR BAY  \n",
       "3            NEAR BAY  \n",
       "4            NEAR BAY  \n",
       "...               ...  \n",
       "20635          INLAND  \n",
       "20636          INLAND  \n",
       "20637          INLAND  \n",
       "20638          INLAND  \n",
       "20639          INLAND  \n",
       "\n",
       "[20640 rows x 10 columns]>"
      ]
     },
     "execution_count": 11,
     "metadata": {},
     "output_type": "execute_result"
    }
   ],
   "source": [
    "### ANSWER\n",
    "\n",
    "# Quick tips: we will be using a lot of datasets in this course, so it's a good idea to create a folder called \"datasets\" \n",
    "# easily accessible in which to save all the datasets.\n",
    "# \n",
    "from pathlib import Path\n",
    "import numpy as np\n",
    "import pandas as pd\n",
    "\n",
    "\n",
    "def load_housing_data(file_path):\n",
    "    return pd.read_csv(file_path)\n",
    "\n",
    "filepath = Path(\"ca_housing_project/Data/Raw/housing.csv\")\n",
    "housing = load_housing_data(file_path=filepath)\n",
    "\n",
    "\n",
    "housing.info\n"
   ]
  },
  {
   "cell_type": "code",
   "execution_count": 6,
   "metadata": {},
   "outputs": [
    {
     "data": {
      "text/plain": [
       "<bound method DataFrame.info of        longitude  latitude  housing_median_age  total_rooms  total_bedrooms  \\\n",
       "13096    -122.42     37.80                52.0       3321.0          1115.0   \n",
       "14973    -118.38     34.14                40.0       1965.0           354.0   \n",
       "3785     -121.98     38.36                33.0       1083.0           217.0   \n",
       "14689    -117.11     33.75                17.0       4174.0           851.0   \n",
       "20507    -118.15     33.77                36.0       4366.0          1211.0   \n",
       "...          ...       ...                 ...          ...             ...   \n",
       "14207    -118.40     33.86                41.0       2237.0           597.0   \n",
       "13105    -119.31     36.32                23.0       2945.0           592.0   \n",
       "19301    -117.06     32.59                13.0       3920.0           775.0   \n",
       "19121    -118.40     34.06                37.0       3781.0           873.0   \n",
       "19888    -122.41     37.66                44.0        431.0           195.0   \n",
       "\n",
       "       population  households  median_income  median_house_value  \\\n",
       "13096      1576.0      1034.0         2.0987            458300.0   \n",
       "14973       666.0       357.0         6.0876            483800.0   \n",
       "3785        562.0       203.0         2.4330            101700.0   \n",
       "14689      1845.0       780.0         2.2618             96100.0   \n",
       "20507      1912.0      1172.0         3.5292            361800.0   \n",
       "...           ...         ...            ...                 ...   \n",
       "14207       938.0       523.0         4.7105            500001.0   \n",
       "13105      1419.0       532.0         2.5733             88800.0   \n",
       "19301      2814.0       760.0         4.0616            148800.0   \n",
       "19121      1725.0       838.0         4.1455            500001.0   \n",
       "19888       682.0       212.0         3.2833            233300.0   \n",
       "\n",
       "      ocean_proximity  rooms_per_house  bedrooms_ratio  people_per_house  \n",
       "13096        NEAR BAY         3.211799        0.335742          1.524178  \n",
       "14973       <1H OCEAN         5.504202        0.180153          1.865546  \n",
       "3785           INLAND         5.334975        0.200369          2.768473  \n",
       "14689          INLAND         5.351282        0.203881          2.365385  \n",
       "20507      NEAR OCEAN         3.725256        0.277371          1.631399  \n",
       "...               ...              ...             ...               ...  \n",
       "14207       <1H OCEAN         4.277247        0.266875          1.793499  \n",
       "13105          INLAND         5.535714        0.201019          2.667293  \n",
       "19301      NEAR OCEAN         5.157895        0.197704          3.702632  \n",
       "19121       <1H OCEAN         4.511933        0.230891          2.058473  \n",
       "19888      NEAR OCEAN         2.033019        0.452436          3.216981  \n",
       "\n",
       "[16512 rows x 13 columns]>"
      ]
     },
     "execution_count": 6,
     "metadata": {},
     "output_type": "execute_result"
    }
   ],
   "source": [
    "\n",
    "\n",
    "from sklearn.model_selection import train_test_split\n",
    "\n",
    "# Add missing features\n",
    "median = housing[\"total_bedrooms\"].median()  \n",
    "housing[\"total_bedrooms\"].fillna(median)\n",
    "\n",
    "# Add in \"income category\" feature\n",
    "housing[\"income_cat\"] = pd.cut(housing[\"median_income\"],\n",
    "                            bins=[0., 1.5, 3.0, 4.5, 6., np.inf],\n",
    "                            labels=[1, 2, 3, 4, 5])\n",
    "\n",
    "#Add in the new features\n",
    "housing[\"rooms_per_house\"] = housing[\"total_rooms\"] / housing[\"households\"]\n",
    "housing[\"bedrooms_ratio\"] = housing[\"total_bedrooms\"] / housing[\"total_rooms\"]\n",
    "housing[\"people_per_house\"] = housing[\"population\"] / housing[\"households\"]\n",
    "\n",
    "\n",
    "\n",
    "# Create 1 split set.\n",
    "strat_train_set, strat_test_set = train_test_split(\n",
    "    housing, test_size=0.2, stratify=housing[\"income_cat\"], random_state=42)\n",
    "\n",
    "# remove income category feature\n",
    "for set_ in (strat_train_set, strat_test_set):\n",
    " set_.drop(\"income_cat\", axis=1, inplace=True)\n",
    "\n",
    "\n",
    "#rename datasets\n",
    "housing_test = strat_test_set\n",
    "housing_train = strat_train_set\n",
    "\n",
    "\n",
    "\"\"\"\n",
    "# Renames the datasets and splits in X and Y\n",
    "housing = strat_train_set.drop(\"median_house_value\", axis=1)\n",
    "housing_labels = strat_train_set[\"median_house_value\"].copy()\n",
    "\n",
    "\n",
    "# Save a checkpoint\n",
    "housing.to_csv(Path(\"datasets/housing/Training_set_nolabels.csv\"), index=False)\n",
    "housing_labels.to_csv(Path(\"datasets/housing/Training_set_labels.csv\"), index=False)\n",
    "\n",
    "\"\"\"\n",
    "\n",
    "housing_test.to_csv(Path(\"ca_housing_project/Data/Test/housing_test.csv\"))\n",
    "housing_train.to_csv(Path(\"ca_housing_project/Data/Train/housing_train.csv\"))\n",
    "\n",
    "\n",
    "housing_train.info\n",
    "\n"
   ]
  },
  {
   "cell_type": "code",
   "execution_count": 7,
   "metadata": {},
   "outputs": [],
   "source": [
    "\n",
    "# Put your code here\n",
    "# to define auxiliary functions and classes used later on\n",
    "\n",
    "from sklearn.cluster import KMeans\n",
    "from sklearn.base import BaseEstimator, TransformerMixin\n",
    "from sklearn.metrics.pairwise import rbf_kernel\n",
    "from sklearn.compose import ColumnTransformer\n",
    "from sklearn.preprocessing import OneHotEncoder, StandardScaler, FunctionTransformer\n",
    "from sklearn.pipeline import make_pipeline\n",
    "from sklearn.impute import SimpleImputer\n",
    "\n",
    "# Make column specific pipelines without defining their names.\n",
    "from sklearn.compose import make_column_selector, make_column_transformer\n",
    "\n",
    "\n",
    "\n",
    "def column_ratio(X):\n",
    "    return X[:, [0]] / X[:, [1]]\n",
    "\n",
    "def ratio_name(function_transformer, feature_names_in):\n",
    "    return [\"ratio\"]  # feature names out\n",
    "\n",
    "def ratio_pipeline():\n",
    "    return make_pipeline(\n",
    "        SimpleImputer(strategy=\"median\"),\n",
    "        FunctionTransformer(column_ratio, feature_names_out=ratio_name),\n",
    "        StandardScaler())\n",
    "\n",
    "\n",
    "class ClusterSimilarity(BaseEstimator, TransformerMixin):\n",
    "    def __init__(self, n_clusters=10, gamma=1.0, random_state=None):\n",
    "        self.n_clusters = n_clusters\n",
    "        self.gamma = gamma\n",
    "        self.random_state = random_state\n",
    "\n",
    "    def fit(self, X, y=None, sample_weight=None):\n",
    "        self.kmeans_ = KMeans(self.n_clusters, random_state=self.random_state)\n",
    "        self.kmeans_.fit(X, sample_weight=sample_weight)\n",
    "        return self  # always return self!\n",
    "\n",
    "    def transform(self, X):\n",
    "        return rbf_kernel(X, self.kmeans_.cluster_centers_, gamma=self.gamma)\n",
    "    \n",
    "    def get_feature_names_out(self, names=None):\n",
    "        return [f\"Cluster {i} similarity\" for i in range(self.n_clusters)]"
   ]
  },
  {
   "cell_type": "code",
   "execution_count": 9,
   "metadata": {},
   "outputs": [],
   "source": [
    "# Put your code here\n",
    "# to make the pipelines\n",
    "\n",
    "num_attribs = [\"longitude\", \"latitude\", \"housing_median_age\", \"total_rooms\",\n",
    "               \"total_bedrooms\", \"population\", \"households\", \"median_income\"]\n",
    "cat_attribs = [\"ocean_proximity\"]\n",
    "\n",
    "cat_pipeline = make_pipeline(\n",
    "    SimpleImputer(strategy=\"most_frequent\"),\n",
    "    OneHotEncoder(handle_unknown=\"ignore\"))\n",
    "\n",
    "# Log Pipeline\n",
    "# Median Imputation + Take the log + Standard Scaler\n",
    "log_pipeline = make_pipeline(\n",
    "    SimpleImputer(strategy=\"median\"),\n",
    "    FunctionTransformer(np.log, feature_names_out=\"one-to-one\"),\n",
    "    StandardScaler())\n",
    "\n",
    "cluster_simil = ClusterSimilarity(n_clusters=10, gamma=1., random_state=42)\n",
    "\n",
    "# Numerical pipeline: Median Imputation + Standard Scaling\n",
    "default_num_pipeline = make_pipeline(SimpleImputer(strategy=\"median\"),\n",
    "                                     StandardScaler())\n",
    "preprocessing = ColumnTransformer([\n",
    "        (\"bedrooms\", ratio_pipeline(), [\"total_bedrooms\", \"total_rooms\"]), # bedrooms = Total bedrooms/total rooms\n",
    "        (\"rooms_per_house\", ratio_pipeline(), [\"total_rooms\", \"households\"]), # rooms = total rooms/households\n",
    "        (\"people_per_house\", ratio_pipeline(), [\"population\", \"households\"]), # people_per_house  = population/ households\n",
    "        (\"log\", log_pipeline, [\"total_bedrooms\", \"total_rooms\", \"population\", # Take the log of some columns\n",
    "                               \"households\", \"median_income\"]),\n",
    "        (\"geo\", cluster_simil, [\"latitude\", \"longitude\"]), # Make cluster from geo data.\n",
    "        (\"cat\", cat_pipeline, make_column_selector(dtype_include=object)), # Apply the cat_pipeline to categorical data.\n",
    "    ],\n",
    "    remainder=default_num_pipeline)  # apply the default num pipeline to the last column remaining: housing_median_age"
   ]
  },
  {
   "cell_type": "code",
   "execution_count": 11,
   "metadata": {},
   "outputs": [
    {
     "name": "stdout",
     "output_type": "stream",
     "text": [
      "Shape after preprocessing (16512, 24)\n"
     ]
    },
    {
     "data": {
      "text/plain": [
       "array(['bedrooms__ratio', 'rooms_per_house__ratio',\n",
       "       'people_per_house__ratio', 'log__total_bedrooms',\n",
       "       'log__total_rooms', 'log__population', 'log__households',\n",
       "       'log__median_income', 'geo__Cluster 0 similarity',\n",
       "       'geo__Cluster 1 similarity', 'geo__Cluster 2 similarity',\n",
       "       'geo__Cluster 3 similarity', 'geo__Cluster 4 similarity',\n",
       "       'geo__Cluster 5 similarity', 'geo__Cluster 6 similarity',\n",
       "       'geo__Cluster 7 similarity', 'geo__Cluster 8 similarity',\n",
       "       'geo__Cluster 9 similarity', 'cat__ocean_proximity_<1H OCEAN',\n",
       "       'cat__ocean_proximity_INLAND', 'cat__ocean_proximity_ISLAND',\n",
       "       'cat__ocean_proximity_NEAR BAY', 'cat__ocean_proximity_NEAR OCEAN',\n",
       "       'remainder__housing_median_age'], dtype=object)"
      ]
     },
     "execution_count": 11,
     "metadata": {},
     "output_type": "execute_result"
    }
   ],
   "source": [
    "# Put your code here\n",
    "# to run the full preprocessing pipeline and get the names of the features\n",
    "\n",
    "from sklearn import set_config\n",
    "set_config(display='diagram')\n",
    "\n",
    "\n",
    "housing_prepared = preprocessing.fit_transform(housing)\n",
    "print(f\"Shape after preprocessing {housing_prepared.shape}\")\n",
    "preprocessing.get_feature_names_out()"
   ]
  },
  {
   "cell_type": "markdown",
   "metadata": {
    "id": "0CKgy65Zfxn-",
    "tags": [
     "task"
    ]
   },
   "source": [
    "---\n",
    "## Part 2. Regression\n",
    "\n",
    "If you have your book handy, the ML starts on page 72. \n",
    "\n",
    "The three ML methods you will use are:\n",
    "* [`LinearRegression`](https://scikit-learn.org/stable/modules/generated/sklearn.linear_model.LinearRegression.html): even if you have used linear regression before, examine what new options this library provides for you,\n",
    "\n",
    "* [`DecisionTreeRegressor`](https://scikit-learn.org/stable/modules/generated/sklearn.tree.DecisionTreeRegressor.html): we have not covered decision trees yet (we will soon!) - you might want to use decision trees in your project so this is a good time to see what they do,\n",
    "\n",
    "* [`RandomForestRegressor`](https://scikit-learn.org/stable/modules/generated/sklearn.ensemble.RandomForestRegressor.html): what does this do? (again, we will get to ensemble methods later, after decision trees); what are its methods and attributes and options?\n",
    "\n",
    "🗒️ **Task:** Answer these questions in the markdown cell below:\n",
    "1. Why does the author pick these algorithms?\n",
    "2. How does the author modify the pipelines to include the regressors?\n",
    "3. How does the author choose to measure the performance of the models? Are there any `sklearn` libraries that help here?\n",
    "4. What does the number returned by `mean_absolute_error` represent?\n",
    "5. Why does the author choose to predict using the training dataset instead of the test set?\n"
   ]
  },
  {
   "cell_type": "markdown",
   "metadata": {
    "tags": [
     "text answer"
    ]
   },
   "source": [
    "✏️ **Answer:** \n",
    "\"\"\"\n",
    "1. The author first used LinearRegression, which is easy but produced a mediocre fit. The DecisionTreeRegressor is a more advanced model capable of determining nonlinear relationship, but it can overfit the data and also had a poor cross-validation score. RandomForestRegressor tests random relationships between variables, an produced a much better cross-validation score.\n",
    "2. The author adds the following code, which adds the regressor to the existing pipeline:\n",
    "\n",
    "\n",
    "\n",
    "full_pipeline = Pipeline([\n",
    "    (\"preprocessing\", preprocessing),\n",
    "    (\"random_forest\", RandomForestRegressor(random_state=42)),\n",
    " ])\n",
    " param_grid = [\n",
    "    {'preprocessing__geo__n_clusters': [5, 8, 10],\n",
    "     'random_forest__max_features': [4, 6, 8]},\n",
    "    {'preprocessing__geo__n_clusters': [10, 15],\n",
    "     'random_forest__max_features': [6, 8, 10]},\n",
    " ]\n",
    " grid_search = GridSearchCV(full_pipeline, param_grid, cv=3,\n",
    "                           scoring='neg_root_mean_squared_error')\n",
    " grid_search.fit(housing, housing_labels)\n",
    "\n",
    "3. The author monitors the performance of the model using \"from sklearn.metrics import mean_squared_error\n",
    "\n",
    "in_rmse = mean_squared_error(housing_labels, housing_predictions,squared=False)\n",
    "\n",
    "\n",
    "\n",
    "\n",
    "4.Mean Absolute Error is the absolute value of the square root of the values of RMSE\n",
    "\n",
    "5. The author predicts using the training set because he is attempting to find a model that accurately predicts values within the training set; if a model is not good on the training set it will not be good in the test set. \n",
    "\"\"\"\n",
    "\n"
   ]
  },
  {
   "cell_type": "markdown",
   "metadata": {
    "tags": [
     "task"
    ]
   },
   "source": [
    "---\n",
    "## Part 3. Cross-validation\n",
    "\n",
    "<center><img src=\"https://cdn.aptech.com/www/uploads/2023/05/Blank-diagram-2-1.jpg\" width=\"600\"></center>\n",
    "\n",
    "Cross-validation is a statistical method used to assess and validate the performance of predictive models. Its primary purpose is to estimate how well a model will generalize to new, unseen data. The technique helps prevent overfitting and provides a more robust evaluation of a model's performance compared to using a single train-test split.\n",
    "\n",
    "Here's a brief overview of how cross-validation is typically used:\n",
    "\n",
    "* Data partitioning: The dataset is divided into k equal-sized subsets or \"folds.\"\n",
    "* Iterative process: The model is trained and evaluated k times. In each iteration:\n",
    "  * One fold is used as the validation set\n",
    "  * The remaining k-1 folds are used for training\n",
    "* Performance measurement: The model's performance is measured on the validation set in each iteration.\n",
    "* Averaging results: The final performance estimate is obtained by averaging the results from all k iterations.\n",
    "\n",
    "Common types of cross-validation include k-fold (typically with k=5 or k=10) and leave-one-out cross-validation. In machine learning and data science, cross-validation serves several key purposes:\n",
    "\n",
    "* Model selection: It helps in comparing and selecting the best-performing model among multiple candidates.\n",
    "* Hyperparameter tuning: It assists in optimizing model hyperparameters by evaluating performance across different settings.\n",
    "* Assessing generalization: It provides a more reliable estimate of how well the model will perform on new, unseen data.\n",
    "* Handling limited data: It makes efficient use of available data, particularly useful when the dataset is small.\n",
    "\n",
    "Cross-validation is an essential tool for developing robust and reliable models in data science applications.\n",
    "\n",
    "🗒️ **Task:** Using the book's notebook as reference answer the questions below:\n",
    "\n",
    "1. What `sklearn` function does the author use for cross validation?\n",
    "2. What are the inputs of this function? Does the author pass the transformed dataset or the original dirty dataset?\n",
    "3. What is the size of the validation sets?\n",
    "4. What does each element of the arrays `lin_rmses`, `tree_rmses`, `forest_rmses` represent?"
   ]
  },
  {
   "cell_type": "markdown",
   "metadata": {
    "tags": [
     "text answer"
    ]
   },
   "source": [
    "✏️ **Answer:** \n",
    "*Put your answers here!*\n"
   ]
  },
  {
   "cell_type": "code",
   "execution_count": 17,
   "metadata": {
    "tags": [
     "code answer"
    ]
   },
   "outputs": [
    {
     "data": {
      "text/plain": [
       "'\\n1. The author uses  from sklearn.model_selection import cross_val_score\\n\\n tree_rmses = -cross_val_score(tree_reg, housing, housing_labels,\\n scoring=\"neg_root_mean_squared_error\", cv=10)\\n\\nwith tree_reg being the chosen regression model\\n\\n2. The inputs to this function are the regression data (tree_reg), the oringinal data (housing), the labels for housing (housing_labels), \\nthe chosen method for scoring (scoring=\"neg_root_mean_squared_error\"), and a value for the number of folds used ( cv=10)\\n\\n3. Using a cv=10, each validation set will be equal to 1/10 of the training set\\n\\n\\n4. \\n count: The number of elements in the matrix (same as the number of folds used)\\n mean: The average value, which the average of all the calculated RMSE for each fold\\n std: The standard deviation of the RMSE values\\n min: The minimum value in the series\\n 25%: The average value for a 25% confidence interval\\n 50%: The average value for a 50% confidence interval\\n 75%: The average value for a 75% confidence interval\\n max: The maximum value in the series\\n dtype: The type of variable in this Pandas series\\n'"
      ]
     },
     "execution_count": 17,
     "metadata": {},
     "output_type": "execute_result"
    }
   ],
   "source": [
    "### ANSWER\n",
    "\"\"\"\n",
    "1. The author uses  from sklearn.model_selection import cross_val_score\n",
    "\n",
    " tree_rmses = -cross_val_score(tree_reg, housing, housing_labels,\n",
    " scoring=\"neg_root_mean_squared_error\", cv=10)\n",
    "\n",
    "with tree_reg being the chosen regression model\n",
    "\n",
    "2. The inputs to this function are the regression data (tree_reg), the oringinal data (housing), the labels for housing (housing_labels), \n",
    "the chosen method for scoring (scoring=\"neg_root_mean_squared_error\"), and a value for the number of folds used ( cv=10)\n",
    "\n",
    "3. Using a cv=10, each validation set will be equal to 1/10 of the training set\n",
    "\n",
    "\n",
    "4. \n",
    " count: The number of elements in the matrix (same as the number of folds used)\n",
    " mean: The average value, which the average of all the calculated RMSE for each fold\n",
    " std: The standard deviation of the RMSE values\n",
    " min: The minimum value in the series\n",
    " 25%: The average value for a 25% confidence interval\n",
    " 50%: The average value for a 50% confidence interval\n",
    " 75%: The average value for a 75% confidence interval\n",
    " max: The maximum value in the series\n",
    " dtype: The type of variable in this Pandas series\n",
    "\"\"\"\n",
    "\n",
    "\n"
   ]
  },
  {
   "cell_type": "markdown",
   "metadata": {
    "tags": [
     "task"
    ]
   },
   "source": [
    "### 3.1 Apply it\n",
    "\n",
    "Let's try it ourselves. The code in the next cell uses four regression models; the three models in the textbook plus a Support Vector Regressor (SVR). For the moment we will use the default and see how it performs on the dataset. \n",
    "\n",
    "\n",
    "🗒️ **Task:** Read through the code and comment it. Note that this can take a while, so try to run it on the fastest machine in your group. Try changing the number of folds and the size of the dataset. SVR is notoriously slow to train. "
   ]
  },
  {
   "cell_type": "code",
   "execution_count": 41,
   "metadata": {
    "tags": [
     "code answer"
    ]
   },
   "outputs": [
    {
     "name": "stdout",
     "output_type": "stream",
     "text": [
      "Max samples: 4953\n",
      "Lin Rmses 3 fold: [72317.39727603 66778.20145306 65018.03653106]\n",
      "Forest Rmses 3 fold: [52086.62562361 51861.3606148  50438.57308718]\n",
      "Tree Rmses 3 fold: [72872.52281645 69499.9865287  75068.45938602]\n",
      "SVR Rmses 3 fold: [120511.13338603 122439.60536545 116431.60835503]\n",
      "Lin Rmses 5 fold: [71645.76565363 67609.0657315  67551.04718547 64875.12624989\n",
      " 64608.35428068]\n",
      "Forest Rmses 5 fold: [51878.12837912 51557.9971182  51905.8613099  50518.48084406\n",
      " 49594.77015562]\n",
      "Tree Rmses 5 fold: [73550.75720629 69734.41764639 70643.10809513 69390.68249862\n",
      " 76246.34725241]\n",
      "SVR Rmses 5 fold: [122906.90812721 118474.4792706  123894.57407887 117925.9273407\n",
      " 115583.50625403]\n",
      "Lin Rmses 5 fold: [72669.92475169 74612.66535768 66347.22494701 68641.4992317\n",
      " 64377.87562573 66458.57761304 63388.3015988 ]\n",
      "Forest Rmses 7 fold: [51288.29747272 50917.65202237 50302.12625517 54645.45704939\n",
      " 47903.53039429 52053.21836462 49090.4698482 ]\n",
      "Tree Rmses 7 fold: [68973.71795811 69247.71074595 72960.31933921 71679.69872151\n",
      " 65636.92323669 74356.96673208 72244.21785205]\n",
      "SVR Rmses 7 fold: [121346.22632581 121601.01549898 121275.48421389 122292.16791843\n",
      " 116830.9702002  117091.103754   118116.58338691]\n"
     ]
    }
   ],
   "source": [
    "### ANSWER\n",
    "# \n",
    "import numpy as np \n",
    "import matplotlib.pyplot as plt\n",
    "%matplotlib inline\n",
    "\n",
    "import seaborn as sns\n",
    "import pandas as pd\n",
    "\n",
    "from sklearn.linear_model import LinearRegression\n",
    "from sklearn.model_selection import cross_val_score\n",
    "from sklearn.tree import DecisionTreeRegressor\n",
    "from sklearn.ensemble import RandomForestRegressor\n",
    "from sklearn.svm import SVR\n",
    "from sklearn.pipeline import make_pipeline\n",
    "\n",
    "# Dataset sizes\n",
    "max_samples = int(housing.shape[0] * 0.3)   # <- 80% of the dataset. Try also 0.3, 0.5, 0.7\n",
    "print(f\"Max samples: {max_samples}\")\n",
    "cv_folds = 3 # <- Number of cross-validation folds. Try to change this number to see how it affects the results. Do not go below 3 though.\n",
    "\n",
    "# Assuming 'housing' and 'housing_labels' are already defined\n",
    "housing_sample = housing[:max_samples]\n",
    "housing_labels_sample = housing_labels[:max_samples]\n",
    "\n",
    "lin_reg = make_pipeline(preprocessing, LinearRegression())\n",
    "lin_rmses = -cross_val_score(lin_reg, housing_sample, housing_labels_sample,\n",
    "                              scoring=\"neg_root_mean_squared_error\", cv=cv_folds, n_jobs=-1)\n",
    "\n",
    "tree_reg = make_pipeline(preprocessing, DecisionTreeRegressor(random_state=42))\n",
    "tree_rmses = -cross_val_score(tree_reg, housing_sample, housing_labels_sample,\n",
    "                              scoring=\"neg_root_mean_squared_error\", cv=cv_folds, n_jobs=-1)\n",
    "\n",
    "forest_reg = make_pipeline(preprocessing, RandomForestRegressor(random_state=42))\n",
    "forest_rmses = -cross_val_score(forest_reg, housing_sample, housing_labels_sample,\n",
    "                                scoring=\"neg_root_mean_squared_error\", cv=cv_folds, n_jobs=-1)\n",
    "\n",
    "svr_reg = make_pipeline(preprocessing, SVR())\n",
    "svr_rmses = -cross_val_score(svr_reg, housing_sample, housing_labels_sample, scoring=\"neg_root_mean_squared_error\", cv=cv_folds, n_jobs=-1)\n",
    "\n",
    "print(f\"Lin Rmses 3 fold: {lin_rmses}\")\n",
    "print(f\"Forest Rmses 3 fold: {forest_rmses}\")\n",
    "print(f\"Tree Rmses 3 fold: {tree_rmses}\")\n",
    "print(f\"SVR Rmses 3 fold: {svr_rmses}\")\n",
    "\n",
    "cv_folds = 5 # <- Number of cross-validation folds. Try to change this number to see how it affects the results. Do not go below 3 though.\n",
    "\n",
    "# Assuming 'housing' and 'housing_labels' are already defined\n",
    "housing_sample = housing[:max_samples]\n",
    "housing_labels_sample = housing_labels[:max_samples]\n",
    "\n",
    "lin_reg = make_pipeline(preprocessing, LinearRegression())\n",
    "lin_rmses = -cross_val_score(lin_reg, housing_sample, housing_labels_sample,\n",
    "                              scoring=\"neg_root_mean_squared_error\", cv=cv_folds, n_jobs=-1)\n",
    "\n",
    "tree_reg = make_pipeline(preprocessing, DecisionTreeRegressor(random_state=42))\n",
    "tree_rmses = -cross_val_score(tree_reg, housing_sample, housing_labels_sample,\n",
    "                              scoring=\"neg_root_mean_squared_error\", cv=cv_folds, n_jobs=-1)\n",
    "\n",
    "forest_reg = make_pipeline(preprocessing, RandomForestRegressor(random_state=42))\n",
    "forest_rmses = -cross_val_score(forest_reg, housing_sample, housing_labels_sample,\n",
    "                                scoring=\"neg_root_mean_squared_error\", cv=cv_folds, n_jobs=-1)\n",
    "\n",
    "svr_reg = make_pipeline(preprocessing, SVR())\n",
    "svr_rmses = -cross_val_score(svr_reg, housing_sample, housing_labels_sample, scoring=\"neg_root_mean_squared_error\", cv=cv_folds, n_jobs=-1)\n",
    "\n",
    "\n",
    "print(f\"Lin Rmses 5 fold: {lin_rmses}\")\n",
    "print(f\"Forest Rmses 5 fold: {forest_rmses}\")\n",
    "print(f\"Tree Rmses 5 fold: {tree_rmses}\")\n",
    "print(f\"SVR Rmses 5 fold: {svr_rmses}\")\n",
    "\n",
    "cv_folds = 7 # <- Number of cross-validation folds. Try to change this number to see how it affects the results. Do not go below 3 though.\n",
    "\n",
    "# Assuming 'housing' and 'housing_labels' are already defined\n",
    "housing_sample = housing[:max_samples]\n",
    "housing_labels_sample = housing_labels[:max_samples]\n",
    "\n",
    "lin_reg = make_pipeline(preprocessing, LinearRegression())\n",
    "lin_rmses = -cross_val_score(lin_reg, housing_sample, housing_labels_sample,\n",
    "                              scoring=\"neg_root_mean_squared_error\", cv=cv_folds, n_jobs=-1)\n",
    "\n",
    "tree_reg = make_pipeline(preprocessing, DecisionTreeRegressor(random_state=42))\n",
    "tree_rmses = -cross_val_score(tree_reg, housing_sample, housing_labels_sample,\n",
    "                              scoring=\"neg_root_mean_squared_error\", cv=cv_folds, n_jobs=-1)\n",
    "\n",
    "forest_reg = make_pipeline(preprocessing, RandomForestRegressor(random_state=42))\n",
    "forest_rmses = -cross_val_score(forest_reg, housing_sample, housing_labels_sample,\n",
    "                                scoring=\"neg_root_mean_squared_error\", cv=cv_folds, n_jobs=-1)\n",
    "\n",
    "svr_reg = make_pipeline(preprocessing, SVR())\n",
    "svr_rmses = -cross_val_score(svr_reg, housing_sample, housing_labels_sample, scoring=\"neg_root_mean_squared_error\", cv=cv_folds, n_jobs=-1)\n",
    "\n",
    "\n",
    "print(f\"Lin Rmses 5 fold: {lin_rmses}\")\n",
    "print(f\"Forest Rmses 7 fold: {forest_rmses}\")\n",
    "print(f\"Tree Rmses 7 fold: {tree_rmses}\")\n",
    "print(f\"SVR Rmses 7 fold: {svr_rmses}\")\n",
    "\n",
    "svr_reg = make_pipeline(preprocessing, SVR())\n",
    "svr_rmses = -cross_val_score(svr_reg, housing_sample, housing_labels_sample, scoring=\"neg_root_mean_squared_error\", cv=cv_folds, n_jobs=-1)\n",
    "                             "
   ]
  },
  {
   "cell_type": "markdown",
   "metadata": {
    "tags": [
     "task"
    ]
   },
   "source": [
    "🗒️ **Coding Task:** In the code cell below, make a plot of the validation scores of each regressor vs the number of folds. Note that running the above code can take a while, you could reduce the number of folds, but don't go below 3.\n",
    "\n",
    "_Hint:_ Have the person with the fastest computer run the above cell.\n"
   ]
  },
  {
   "cell_type": "code",
   "execution_count": 47,
   "metadata": {
    "tags": [
     "code answer"
    ]
   },
   "outputs": [
    {
     "data": {
      "image/png": "[encoded data removed]",
      "text/plain": [
       "<Figure size 1000x600 with 1 Axes>"
      ]
     },
     "metadata": {},
     "output_type": "display_data"
    }
   ],
   "source": [
    "### ANSWER\n",
    "\n",
    "import matplotlib.pyplot as plt\n",
    "import numpy as np\n",
    "\n",
    "# RMSE data\n",
    "rmse_data = {\n",
    "    'Linear': {\n",
    "        3: [72317.39727603, 66778.20145306, 65018.03653106],\n",
    "        5: [71645.76565363, 67609.0657315, 67551.04718547, 64875.12624989, 64608.35428068],\n",
    "        7: [72669.92475169, 74612.66535768, 66347.22494701, 68641.4992317, 64377.87562573, 66458.57761304, 63388.3015988]\n",
    "    },\n",
    "    'Random Forest': {\n",
    "        3: [52086.62562361, 51861.3606148, 50438.57308718],\n",
    "        5: [51878.12837912, 51557.9971182, 51905.8613099, 50518.48084406, 49594.77015562],\n",
    "        7: [51288.29747272, 50917.65202237, 50302.12625517, 54645.45704939, 47903.53039429, 52053.21836462, 49090.4698482]\n",
    "    },\n",
    "    'Decision Tree': {\n",
    "        3: [72872.52281645, 69499.9865287, 75068.45938602],\n",
    "        5: [73550.75720629, 69734.41764639, 70643.10809513, 69390.68249862, 76246.34725241],\n",
    "        7: [68973.71795811, 69247.71074595, 72960.31933921, 71679.69872151, 65636.92323669, 74356.96673208, 72244.21785205]\n",
    "    },\n",
    "    'SVR': {\n",
    "        3: [120511.13338603, 122439.60536545, 116431.60835503],\n",
    "        5: [122906.90812721, 118474.4792706, 123894.57407887, 117925.9273407, 115583.50625403],\n",
    "        7: [121346.22632581, 121601.01549898, 121275.48421389, 122292.16791843, 116830.9702002, 117091.103754, 118116.58338691]\n",
    "    }\n",
    "}\n",
    "\n",
    "# Prepare plot\n",
    "plt.figure(figsize=(10, 6))\n",
    "\n",
    "for model, folds_data in rmse_data.items():\n",
    "    folds = sorted(folds_data.keys())\n",
    "    avg_rmse = [np.mean(folds_data[k]) for k in folds]\n",
    "    plt.plot(folds, avg_rmse, marker='o', label=model)\n",
    "\n",
    "# Customize plot\n",
    "plt.title('Average Validation RMSE vs Number of Folds')\n",
    "plt.xlabel('Number of Folds')\n",
    "plt.ylabel('Average RMSE')\n",
    "plt.grid(True)\n",
    "plt.legend()\n",
    "plt.tight_layout()\n",
    "plt.show()\n"
   ]
  },
  {
   "cell_type": "markdown",
   "metadata": {
    "tags": [
     "task"
    ]
   },
   "source": [
    "🗒️ **Task:** Answer these questions in the next cell. How does the plot look? Are the curves relatively flat? What would it mean if they weren't flat but increasing with the fold number?"
   ]
  },
  {
   "cell_type": "markdown",
   "metadata": {
    "tags": [
     "text answer"
    ]
   },
   "source": [
    "✏️ **Answer:** \n",
    "Answers are very flat. If the curves are highly dependent on fold number, that is an indication that there is some instability or overfitting of the data. \n"
   ]
  },
  {
   "cell_type": "markdown",
   "metadata": {
    "id": "L9Cf_pnY6DKa",
    "tags": [
     "task"
    ]
   },
   "source": [
    "---\n",
    "## Part 4: Hyperparameter Tuning/Optimization \n",
    "\n",
    "<div style=\"text-align: center;\">\n",
    "    <img src=\"https://pvsmt99345.i.lithium.com/t5/image/serverpage/image-id/74545i97245FDAA10376E9/image-size/large?v=1.0&px=999\" width=\"600\">\n",
    "</div>\n",
    "\n",
    "\n",
    "At this point, what have you done? A lot of data science and lot of data cleaning and a lot of exploring accuracy of algorithms with CV. Now you can pick which estimator you want to use. In this case we go with the Random Forest since it is the model with the lowest cv scores.\n",
    "\n",
    "The next phase of the ML workflow is making your estimator really work for you. As you saw above, each of the algorithms comes with a host of options. The parameters associated with those options are called \"hyperparameters\" because they are **internal to your estimator** and are separate from the parameters of your model. Like some of the other steps you have been following, hyperparameter tuning is so ubiquitous that `sklearn` has nice tools to help you. \n",
    "\n",
    "The difference between a parameter of your model and the hyperparameters of your estimator can be confusing. Here is a good way to understand the difference: look at the documentation for each of the estimators. You will see that each one accepts a large number of inputs, many of which are set to some default value. (You probably should look at something like the [decision tree](https://scikit-learn.org/stable/modules/generated/sklearn.tree.DecisionTreeRegressor.html#sklearn.tree.DecisionTreeRegressor) rather than linear regression, which is too simple to have many options.) Most of these options, which you may typically ignore, are the hyperparameter that define the way the estimator is set up. This is because, for example, there isn't one decision tree, there are infinitely many -- which one do you want to use? \n",
    "\n",
    "To find the hyperparameters, you might need to do the training hundreds or thousands of times! But, the payoff is the most accurate algorithm! \n",
    "\n",
    "How do we search for the best hyperparameters?\n",
    "\n",
    "🗒️ **Task:** Research [`GridSearchCV`](https://scikit-learn.org/stable/modules/generated/sklearn.model_selection.GridSearchCV.html) and give a short summary of what it can do for you. How do you use [`GridSearchCV`](https://scikit-learn.org/stable/modules/generated/sklearn.model_selection.GridSearchCV.html) with different algorithms?\n"
   ]
  },
  {
   "cell_type": "markdown",
   "metadata": {
    "tags": [
     "text answer"
    ]
   },
   "source": [
    "✏️ **Answer:** \n",
    "\n",
    "GridSearchCV is a method for tuning hyperparameters, and evaluated the possibilities for cross-validation until it finds an optimal value. For different algorithms, the \"model\" can be changed. This examples uses RandomForestClassifier(), but you can use any model.\n",
    "\n",
    "\n",
    "from sklearn.model_selection import GridSearchCV\n",
    "\n",
    "from sklearn.ensemble import RandomForestClassifier\n",
    "\n",
    "Define model\n",
    "model = RandomForestClassifier()\n",
    "\n",
    "Define hyperparameter grid\n",
    "param_grid = {\n",
    "    'n_estimators': [100, 200],\n",
    "    'max_depth': [None, 10, 20],\n",
    "    'min_samples_split': [2, 5]\n",
    "}\n",
    "\n",
    "Set up GridSearchCV\n",
    "\n",
    "grid_search = GridSearchCV(estimator=model, param_grid=param_grid, cv=5, scoring='accuracy')\n",
    "\n",
    "Fit to training data\n",
    "\n",
    "grid_search.fit(X_train, y_train)\n",
    "\n",
    "Get best parameters and score\n",
    "\n",
    "print(grid_search.best_params_)\n",
    "\n",
    "print(grid_search.best_score_)\n",
    "\n",
    "answer was assisted by Microsoft Copilot, 9/10/2025\n"
   ]
  },
  {
   "cell_type": "markdown",
   "metadata": {
    "tags": [
     "task"
    ]
   },
   "source": [
    "Below is a snippet of the code of the notebook. \n",
    "\n",
    "```python\n",
    "    param_grid = [\n",
    "        {'preprocessing__geo__n_clusters': [5, 8, 10],\n",
    "        'random_forest__max_features': [4, 6, 8]},\n",
    "        {'preprocessing__geo__n_clusters': [10, 15],\n",
    "        'random_forest__max_features': [6, 8, 10]},\n",
    "    ]\n",
    "    grid_search = GridSearchCV(full_pipeline, param_grid, cv=3,\n",
    "                            scoring='neg_root_mean_squared_error', n_jobs = -1)\n",
    "    grid_search.fit(housing, housing_labels)\n",
    "```\n",
    "\n",
    "🗒️ **Task:**  Answer these questions in the markdown cell below:\n",
    "\n",
    "1. Why are there two dictionaries in the `params_grid` list? Do they refer to different estimators in the pipeline? Why not putting them all together ?\n",
    "\n",
    "2. What does the option `cv = 3` do?\n",
    "\n",
    "3. What does `n_jobs` do?"
   ]
  },
  {
   "cell_type": "markdown",
   "metadata": {
    "tags": [
     "text answer"
    ]
   },
   "source": [
    "✏️ **Answer:** \n",
    "1. The two dictionaries allow for different grids of parameters to be tested. Limiting the grids in this way lowers the computational power required. The tested hyperparameters are for a preprocessing step and the final estimator.\n",
    "2. The option cv=3 sets the cross-validation to use 3 folds\n",
    "3. 'n_jobs' sets the number of cores that are used for the computational process. In the code above, n_jobs=-1 uses the maximum available cores.\n",
    "\n",
    "# answer was assisted by Microsoft Copilot, 9/10/2025\n",
    "\n"
   ]
  },
  {
   "cell_type": "markdown",
   "metadata": {
    "tags": [
     "task"
    ]
   },
   "source": [
    "🗒️ **Task:** Research [`RandomizedSearchCV`](https://scikit-learn.org/stable/modules/generated/sklearn.model_selection.RandomizedSearchCV.html) and give a short summary of what it can do for you.\n",
    "\n",
    "* How does it differ from `GridSearchCV` ?\n",
    "* Why would you choose one over the other?"
   ]
  },
  {
   "cell_type": "markdown",
   "metadata": {
    "tags": [
     "text answer"
    ]
   },
   "source": [
    "✏️ **Answer:** \n",
    "RandomizedSearchCV picks a certain number of random hyperparameter combinations, and is best for large samples where exhaustive testing is impractical.\n"
   ]
  },
  {
   "cell_type": "markdown",
   "metadata": {
    "tags": [
     "task"
    ]
   },
   "source": [
    "### 4.1 Apply it to SVR\n",
    "\n",
    "Let's try hyperparameter tuning on our new estimator; the SVR.\n",
    "\n",
    "🗒️ **Task:** In the next cell, write code to perform both a randomized search and a grid search on the parameters of the SVR. Use only the `kernel`, `C`, and `gamma` parameters.\n",
    "\n",
    "__Note:__ This is going to be very slow, use `max_sample = 5000` and only `cv = 3`"
   ]
  },
  {
   "cell_type": "code",
   "execution_count": 50,
   "metadata": {
    "tags": [
     "code answer"
    ]
   },
   "outputs": [
    {
     "name": "stdout",
     "output_type": "stream",
     "text": [
      "Best GridSearchCV Parameters: {'svr__C': 100, 'svr__kernel': 'linear'}\n",
      "Best GridSearchCV Score: 6335874632.178973\n",
      "Best RandomizedSearchCV Parameters: {'svr__C': np.float64(99.32308858067881), 'svr__gamma': np.float64(0.47676289324797994), 'svr__kernel': 'linear'}\n",
      "Best RandomizedSearchCV Score: 6347511317.706333\n"
     ]
    }
   ],
   "source": [
    "### ANSWER\n",
    "\n",
    "\n",
    "from sklearn.model_selection import GridSearchCV, RandomizedSearchCV, train_test_split\n",
    "from sklearn.pipeline import Pipeline\n",
    "from sklearn.preprocessing import StandardScaler\n",
    "from sklearn.svm import SVR\n",
    "from scipy.stats import uniform\n",
    "import numpy as np\n",
    "\n",
    "max_samples = 5000\n",
    "cv_folds = 3 # <- Number of cross-validation folds. Try to change this number to see how it affects the results. Do not go below 3 though.\n",
    "\n",
    "# Assuming 'housing' and 'housing_labels' are already defined\n",
    "housing_sample = housing[:max_samples]\n",
    "housing_labels_sample = housing_labels[:max_samples]\n",
    "\n",
    "\n",
    "\n",
    "\n",
    "\n",
    "# Define pipeline\n",
    "pipeline = svr_reg\n",
    "\n",
    "# Grid of parameters\n",
    "param_grid = [\n",
    "    {'svr__kernel': ['linear'], 'svr__C': [1, 10, 100]},\n",
    "    {'svr__kernel': ['rbf'], 'svr__C': [1, 10, 100], 'svr__gamma': [0.01, 0.1, 1]}\n",
    "]\n",
    "\n",
    "grid_search = GridSearchCV(pipeline, param_grid, cv=3, scoring='neg_mean_squared_error', n_jobs=-1)\n",
    "grid_search.fit(housing_sample, housing_labels_sample)\n",
    "\n",
    "print(\"Best GridSearchCV Parameters:\", grid_search.best_params_)\n",
    "print(\"Best GridSearchCV Score:\", -grid_search.best_score_)\n",
    "\n",
    "# Random distributions\n",
    "\n",
    "param_distributions = {\n",
    "    'svr__kernel': ['linear', 'rbf'],\n",
    "    'svr__C': uniform(1, 100),\n",
    "    'svr__gamma': uniform(0.01, 1)\n",
    "}\n",
    "\n",
    "random_search = RandomizedSearchCV(pipeline, param_distributions, n_iter=20, cv=3,\n",
    "                                   scoring='neg_mean_squared_error', n_jobs=-1, random_state=42)\n",
    "random_search.fit(housing_sample, housing_labels_sample)\n",
    "\n",
    "print(\"Best RandomizedSearchCV Parameters:\", random_search.best_params_)\n",
    "print(\"Best RandomizedSearchCV Score:\", -random_search.best_score_)\n",
    "\n"
   ]
  },
  {
   "cell_type": "markdown",
   "metadata": {
    "tags": [
     "task"
    ]
   },
   "source": [
    "🗒️ **Task:** How does the SVR compare with the previous ones? Make a table comparing the scores of all the ML models."
   ]
  },
  {
   "cell_type": "markdown",
   "metadata": {
    "tags": [
     "text answer"
    ]
   },
   "source": [
    "✏️ **Answer:** \n",
    "*Put your answers here!*\n"
   ]
  },
  {
   "cell_type": "code",
   "execution_count": 54,
   "metadata": {
    "tags": [
     "code answer"
    ]
   },
   "outputs": [
    {
     "name": "stdout",
     "output_type": "stream",
     "text": [
      "     Model              Method  Folds      Mean_RMSE\n",
      "0      SVR        GridSearchCV      3   79598.207468\n",
      "1      SVR  RandomizedSearchCV      3   79671.270341\n",
      "2   Linear     cross_val_score      3   68037.878420\n",
      "3   Forest     cross_val_score      3   51462.186442\n",
      "4     Tree     cross_val_score      3   72480.322910\n",
      "5      SVR     cross_val_score      3  119794.115702\n",
      "6   Linear     cross_val_score      5   67257.871820\n",
      "7   Forest     cross_val_score      5   51091.047561\n",
      "8     Tree     cross_val_score      5   71913.062540\n",
      "9      SVR     cross_val_score      5  119757.079014\n",
      "10  Linear     cross_val_score      7   68070.867018\n",
      "11  Forest     cross_val_score      7   50885.821630\n",
      "12    Tree     cross_val_score      7   70728.507798\n",
      "13     SVR     cross_val_score      7  119793.364471\n"
     ]
    }
   ],
   "source": [
    "### ANSWER\n",
    "\"\"\"\n",
    "The score for SearchCV is not directly comparable to RMSES values\n",
    "\"\"\"\n",
    "\n",
    "import numpy as np\n",
    "\n",
    "ml_scores = [\n",
    "    {\"Model\": \"SVR\", \"Method\": \"GridSearchCV\", \"Folds\": 3,\n",
    "     \"Params\": {\"svr__C\": 100, \"svr__kernel\": \"linear\"},\n",
    "     \"Mean_RMSE\": np.sqrt(6335874632.178973),\n",
    "     \"RMSEs\": None},\n",
    "\n",
    "    {\"Model\": \"SVR\", \"Method\": \"RandomizedSearchCV\", \"Folds\": 3,\n",
    "     \"Params\": {\"svr__C\": 99.32308858067881, \"svr__gamma\": 0.47676289324797994, \"svr__kernel\": \"linear\"},\n",
    "     \"Mean_RMSE\": np.sqrt(6347511317.706333),\n",
    "     \"RMSEs\": None},\n",
    "\n",
    "    {\"Model\": \"Linear\", \"Method\": \"cross_val_score\", \"Folds\": 3,\n",
    "     \"Params\": None,\n",
    "     \"Mean_RMSE\": np.mean([72317.39727603, 66778.20145306, 65018.03653106]),\n",
    "     \"RMSEs\": [72317.39727603, 66778.20145306, 65018.03653106]},\n",
    "\n",
    "    {\"Model\": \"Forest\", \"Method\": \"cross_val_score\", \"Folds\": 3,\n",
    "     \"Params\": None,\n",
    "     \"Mean_RMSE\": np.mean([52086.62562361, 51861.3606148, 50438.57308718]),\n",
    "     \"RMSEs\": [52086.62562361, 51861.3606148, 50438.57308718]},\n",
    "\n",
    "    {\"Model\": \"Tree\", \"Method\": \"cross_val_score\", \"Folds\": 3,\n",
    "     \"Params\": None,\n",
    "     \"Mean_RMSE\": np.mean([72872.52281645, 69499.9865287, 75068.45938602]),\n",
    "     \"RMSEs\": [72872.52281645, 69499.9865287, 75068.45938602]},\n",
    "\n",
    "    {\"Model\": \"SVR\", \"Method\": \"cross_val_score\", \"Folds\": 3,\n",
    "     \"Params\": None,\n",
    "     \"Mean_RMSE\": np.mean([120511.13338603, 122439.60536545, 116431.60835503]),\n",
    "     \"RMSEs\": [120511.13338603, 122439.60536545, 116431.60835503]},\n",
    "\n",
    "    {\"Model\": \"Linear\", \"Method\": \"cross_val_score\", \"Folds\": 5,\n",
    "     \"Params\": None,\n",
    "     \"Mean_RMSE\": np.mean([71645.76565363, 67609.0657315, 67551.04718547, 64875.12624989, 64608.35428068]),\n",
    "     \"RMSEs\": [71645.76565363, 67609.0657315, 67551.04718547, 64875.12624989, 64608.35428068]},\n",
    "\n",
    "    {\"Model\": \"Forest\", \"Method\": \"cross_val_score\", \"Folds\": 5,\n",
    "     \"Params\": None,\n",
    "     \"Mean_RMSE\": np.mean([51878.12837912, 51557.9971182, 51905.8613099, 50518.48084406, 49594.77015562]),\n",
    "     \"RMSEs\": [51878.12837912, 51557.9971182, 51905.8613099, 50518.48084406, 49594.77015562]},\n",
    "\n",
    "    {\"Model\": \"Tree\", \"Method\": \"cross_val_score\", \"Folds\": 5,\n",
    "     \"Params\": None,\n",
    "     \"Mean_RMSE\": np.mean([73550.75720629, 69734.41764639, 70643.10809513, 69390.68249862, 76246.34725241]),\n",
    "     \"RMSEs\": [73550.75720629, 69734.41764639, 70643.10809513, 69390.68249862, 76246.34725241]},\n",
    "\n",
    "    {\"Model\": \"SVR\", \"Method\": \"cross_val_score\", \"Folds\": 5,\n",
    "     \"Params\": None,\n",
    "     \"Mean_RMSE\": np.mean([122906.90812721, 118474.4792706, 123894.57407887, 117925.9273407, 115583.50625403]),\n",
    "     \"RMSEs\": [122906.90812721, 118474.4792706, 123894.57407887, 117925.9273407, 115583.50625403]},\n",
    "\n",
    "    {\"Model\": \"Linear\", \"Method\": \"cross_val_score\", \"Folds\": 7,\n",
    "     \"Params\": None,\n",
    "     \"Mean_RMSE\": np.mean([72669.92475169, 74612.66535768, 66347.22494701, 68641.4992317, 64377.87562573, 66458.57761304, 63388.3015988]),\n",
    "     \"RMSEs\": [72669.92475169, 74612.66535768, 66347.22494701, 68641.4992317, 64377.87562573, 66458.57761304, 63388.3015988]},\n",
    "\n",
    "    {\"Model\": \"Forest\", \"Method\": \"cross_val_score\", \"Folds\": 7,\n",
    "     \"Params\": None,\n",
    "     \"Mean_RMSE\": np.mean([51288.29747272, 50917.65202237, 50302.12625517, 54645.45704939, 47903.53039429, 52053.21836462, 49090.4698482]),\n",
    "     \"RMSEs\": [51288.29747272, 50917.65202237, 50302.12625517, 54645.45704939, 47903.53039429, 52053.21836462, 49090.4698482]},\n",
    "\n",
    "    {\"Model\": \"Tree\", \"Method\": \"cross_val_score\", \"Folds\": 7,\n",
    "     \"Params\": None,\n",
    "     \"Mean_RMSE\": np.mean([68973.71795811, 69247.71074595, 72960.31933921, 71679.69872151, 65636.92323669, 74356.96673208, 72244.21785205]),\n",
    "     \"RMSEs\": [68973.71795811, 69247.71074595, 72960.31933921, 71679.69872151, 65636.92323669, 74356.96673208, 72244.21785205]},\n",
    "\n",
    "    {\"Model\": \"SVR\", \"Method\": \"cross_val_score\", \"Folds\": 7,\n",
    "     \"Params\": None,\n",
    "     \"Mean_RMSE\": np.mean([121346.22632581, 121601.01549898, 121275.48421389, 122292.16791843, 116830.9702002, 117091.103754, 118116.58338691]),\n",
    "     \"RMSEs\": [121346.22632581, 121601.01549898, 121275.48421389, 122292.16791843, 116830.9702002, 117091.103754, 118116.58338691]}\n",
    "]\n",
    "\n",
    "df = pd.DataFrame(ml_scores)\n",
    "print(df[[\"Model\", \"Method\", \"Folds\", \"Mean_RMSE\"]])\n",
    "\n"
   ]
  },
  {
   "cell_type": "markdown",
   "metadata": {
    "id": "8pRCa0oh-aLX"
   },
   "source": [
    "___\n",
    "\n",
    "## Congratulations, you’re done!\n",
    "\n",
    "Submit this assignment by uploading it to the course Desire2Learn web page. Go to the “In-class assignments” folder, find the appropriate submission link, and upload it there."
   ]
  },
  {
   "cell_type": "markdown",
   "metadata": {},
   "source": [
    "&#169; Copyright 2023, Department of Computational Mathematics, Science and Engineering at Michigan State University."
   ]
  }
 ],
 "metadata": {
  "colab": {
   "collapsed_sections": [],
   "name": "ICA_Part_2_EndToEndProject.ipynb",
   "provenance": []
  },
  "kernelspec": {
   "display_name": "Python [conda env:CMSE]",
   "language": "python",
   "name": "conda-env-CMSE-py"
  },
  "language_info": {
   "codemirror_mode": {
    "name": "ipython",
    "version": 3
   },
   "file_extension": ".py",
   "mimetype": "text/x-python",
   "name": "python",
   "nbconvert_exporter": "python",
   "pygments_lexer": "ipython3",
   "version": "3.12.11"
  }
 },
 "nbformat": 4,
 "nbformat_minor": 4
}
