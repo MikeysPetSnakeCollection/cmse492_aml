{
 "cells": [
  {
   "cell_type": "code",
   "execution_count": null,
   "id": "87a56f3a-0ee5-453c-8cae-2f7c08a6a006",
   "metadata": {},
   "outputs": [],
   "source": []
  }
 ],
 "metadata": {
  "kernelspec": {
   "display_name": "Python [conda env:CMSE]",
   "language": "python",
   "name": "conda-env-CMSE-py"
  },
  "language_info": {
   "codemirror_mode": {
    "name": "ipython",
    "version": 3
   },
   "file_extension": ".py",
   "mimetype": "text/x-python",
   "name": "python",
   "nbconvert_exporter": "python",
   "pygments_lexer": "ipython3",
   "version": "3.12.11"
  }
 },
 "nbformat": 4,
 "nbformat_minor": 5
}
