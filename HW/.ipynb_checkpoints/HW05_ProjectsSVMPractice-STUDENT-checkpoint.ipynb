{
 "cells": [
  {
   "cell_type": "markdown",
   "metadata": {},
   "source": [
    "# Homework 05: Projects, SVMs, Practice\n",
    "\n",
    "### <p style=\"text-align: right;\"> &#9989; Behrendt, Michael\n",
    "\n",
    "<img src=\"https://scikit-learn.org/stable/_images/sphx_glr_plot_kernel_pca_002.png\" \n",
    "     alt=\"KPCA\" \n",
    "     style=\"width: 1200px; height: auto;\">"
   ]
  },
  {
   "cell_type": "markdown",
   "metadata": {},
   "source": [
    "---\n",
    "\n",
    "## Problem #1: Project (10 points)\n",
    "\n",
    "There is a French expression \"_lire en diagonale_\" which translates \"to read diagonally\" and means to skim. \n",
    "\n",
    "**Read your entire textbook diagonally.** That is, study the table of contents and become familiar with what is in each chapter. Also, the book has really excellent appendices. As you start to work on your project it is likely that you will ned tools that we have not covered in class yet. You may need to jump ahead to future chapters. In fact, you maye do a project based on one of the chapter that we don't even cover in class - there is just too much to machine learning! \n",
    "\n",
    "In a markdown cell, give a summary of the textbook and where you can find various topics. You never know what you will need by the end of the semester.\n",
    "\n",
    "Next, a separate markdown cell, put a plan for your project. Consider these points:\n",
    "* do you have a dataset? if so, what is it?  \n",
    "* are you planning to do RL (where there is no data)? if so, what is the application and what is the environment from which the agent learns? \n",
    "* which ML models are you interested in using? \n",
    "* what is the application, use case and goal of the project? this is extremely important because the goal can dictate all of your previous choices! \n",
    "* what is your risk mitagation strategy? many projects \"fail\" because they are poorly designed; for example, the data simply cannot acheive the desired goal \n",
    "\n",
    "We are going to do this homework problem again - you will need to iterate and this is your first iteration. The next time we do this we will work through _Appendix A: Machine Learning Project Checklist_ (p. 779) - read that diagonally now so that you are ready to go through it in detail soon. "
   ]
  },
  {
   "cell_type": "markdown",
   "metadata": {
    "tags": [
     "text answer"
    ]
   },
   "source": [
    "✏️ **Answer:**"
   ]
  },
  {
   "cell_type": "markdown",
   "metadata": {},
   "source": [
    "✏️ **Answer:**\n",
    "\n",
    "For my project:\n",
    "\n",
    "I already have the dataset collected. It consists of several hundred IR and Raman scans of contaminated plastic plates. These plates are labeled, so I plan on doing supervised learning to create a ML algorithm to identify the types of contaminants and plastic by the IR and Raman signals. The application is to improve the accuracy of plastic recycling pathways by performing spectrographic analysis before the washing step to identify materials based on their contaminants rather than physical appearance. The goal is to create a system that can be added on to existing recycling machines to improve the successful identification rate. While I think the addition of more information is unlikely to be detrimental, the risk would be that the added expense of adding an IR identification detector would not bring commesurate benefits. \n"
   ]
  },
  {
   "cell_type": "markdown",
   "metadata": {},
   "source": [
    "---\n",
    "\n",
    "## Problem #2: Kernel Design (20 points)\n",
    "\n",
    "Consider the following 2D dataset where points belong to two classes (+ and -):\n",
    "\n",
    "* Class +: (0.5,0.5), (2,0), (2,2), (0,2)\n",
    "* Class -: (1,1), (1.2,0.8), (0.9,1.1)"
   ]
  },
  {
   "cell_type": "markdown",
   "metadata": {},
   "source": [
    "**🗒️ Task:** (2 points) Plot these points "
   ]
  },
  {
   "cell_type": "code",
   "execution_count": 21,
   "metadata": {
    "tags": [
     "code answer"
    ]
   },
   "outputs": [
    {
     "data": {
      "image/png": "[encoded data removed]",
      "text/plain": [
       "<Figure size 640x480 with 1 Axes>"
      ]
     },
     "metadata": {},
     "output_type": "display_data"
    }
   ],
   "source": [
    "### ANSWER\n",
    "\n",
    "import matplotlib.pyplot as plt\n",
    "\n",
    "# Data points for each class\n",
    "class_plus_x = [0.5, 2, 2, 0]\n",
    "class_plus_y = [0.5, 0, 2, 2]\n",
    "\n",
    "class_minus_x = [1, 1.2, 0.9]\n",
    "class_minus_y = [1, 0.8, 1.1]\n",
    "\n",
    "# Create the scatter plot\n",
    "plt.scatter(class_plus_x, class_plus_y, c='blue', marker='+', label='Class +')\n",
    "plt.scatter(class_minus_x, class_minus_y, c='red', marker='_', label='Class -')\n",
    "\n",
    "# Add labels and title\n",
    "plt.xlabel(\"X-axis\")\n",
    "plt.ylabel(\"Y-axis\")\n",
    "plt.title(\"Scatter Plot Points\")\n",
    "plt.legend()\n",
    "\n",
    "\n",
    "# Save the plot\n",
    "plt.savefig(r'C:\\Users\\Mikey\\Documents\\GitHub\\cmse492_aml\\HW\\HW5\\P2_1.png')\n",
    "\n",
    "\n",
    "\n"
   ]
  },
  {
   "cell_type": "markdown",
   "metadata": {},
   "source": [
    "**🗒️ Task:** (2 points) Explain why this data is not linearly separable."
   ]
  },
  {
   "cell_type": "markdown",
   "metadata": {
    "tags": [
     "text answer"
    ]
   },
   "source": [
    "✏️ **Answer:**\n",
    "\n",
    "Data is linearly seperable when a linear line can be drawn that separates the two classes. No line is capable of doing this in this situation. "
   ]
  },
  {
   "cell_type": "markdown",
   "metadata": {},
   "source": [
    "**🗒️ Task:** (8 points) Design a function $\\phi(x)$ that maps these 2D points into a new space where they become linearly separable. \n",
    "   - Hint: Think about the distance of points from the center (1.5, 1.5)\n",
    "   - Hint: A simple quadratic transformation might be sufficient?\n",
    "   - Show your work step by step\n",
    "   - Explain your intuition behind the kernel design\n"
   ]
  },
  {
   "cell_type": "code",
   "execution_count": 25,
   "metadata": {
    "tags": [
     "code answer"
    ]
   },
   "outputs": [],
   "source": [
    "### ANSWER\n",
    "# Some common feature maps\n",
    "\n",
    "\n",
    "from sklearn.preprocessing import PolynomialFeatures\n",
    "from sklearn.datasets import load_iris\n",
    "from sklearn.pipeline import make_pipeline\n",
    "from sklearn.preprocessing import StandardScaler\n",
    "from sklearn.svm import LinearSVC\n",
    "\n",
    "# change to a numpy array\n",
    "data_pos = np.array(\n",
    "    list(zip(class_plus_x, class_plus_y)) \n",
    ")\n",
    "\n",
    "data_neg = np.array(\n",
    "    list(zip(class_minus_x, class_minus_y))\n",
    ")\n",
    "\n",
    "def linear_feature_map(X):\n",
    "    \"\"\"Return the input as is (identity map). This is boring\"\"\"\n",
    "    return X\n",
    "\n",
    "def polynomial_feature_map(X):\n",
    "    \"\"\"Create polynomial features up to the 2nd degree only.\"\"\"\n",
    "    return np.array([X[:,0]**2, np.sqrt(2)*X[:, 0]*X[:,1], X[:,1]**2])\n",
    "\n",
    "def custom_feature_map(X):\n",
    "    \"\"\"Put your custom feature map here.\"\"\"\n",
    "    # I chose the option that adds a new feature returning the distance from the mean of all values\n",
    "    x_1 = np.array(X)\n",
    "    mean_x = np.mean(x_1)\n",
    "    new_x = x_1-np.full(x_1.shape, mean_x)\n",
    "    return new_x\n",
    "\n"
   ]
  },
  {
   "cell_type": "markdown",
   "metadata": {
    "tags": [
     "text answer"
    ]
   },
   "source": [
    "✏️ **Answer:** _Explain your reasoning here_"
   ]
  },
  {
   "cell_type": "markdown",
   "metadata": {},
   "source": [
    "**🗒️ Task:** (2 points) Plot the transformed points in the new space and draw a separating hyperplane. (If you can. If your kernel is above quadratic it will not be possible.). \n",
    "\n",
    "**Note:** I am providing some code to get you started. You don't need to plot in 3D!. You feature map could return just two features that are enough. I am showing the 3D plot because the polynomial_feature_map returns 3 features."
   ]
  },
  {
   "cell_type": "code",
   "execution_count": 141,
   "metadata": {
    "tags": [
     "code answer"
    ]
   },
   "outputs": [
    {
     "data": {
      "application/vnd.plotly.v1+json": {
       "config": {
        "plotlyServerURL": "https://plot.ly"
       },
       "data": [
        {
         "marker": {
          "color": "blue",
          "line": {
           "color": "black",
           "width": 2
          },
          "size": 10,
          "symbol": "circle"
         },
         "mode": "markers",
         "name": "Class +",
         "type": "scatter3d",
         "x": {
          "_inputArray": {
           "0": 0.25,
           "1": 0.3535533905932738,
           "2": 0.25,
           "bdata": "AAAAAAAA0D/NO39mnqDWPwAAAAAAANA/",
           "dtype": "f8",
           "shape": "3"
          },
          "bdata": "AAAAAAAA0D/NO39mnqDWPwAAAAAAANA/",
          "dtype": "f8"
         },
         "y": {
          "_inputArray": {
           "0": 4,
           "1": 0,
           "2": 0,
           "bdata": "AAAAAAAAEEAAAAAAAAAAAAAAAAAAAAAA",
           "dtype": "f8",
           "shape": "3"
          },
          "bdata": "AAAAAAAAEEAAAAAAAAAAAAAAAAAAAAAA",
          "dtype": "f8"
         },
         "z": {
          "_inputArray": {
           "0": 4,
           "1": 5.656854249492381,
           "2": 4,
           "bdata": "AAAAAAAAEEDNO39mnqAWQAAAAAAAABBA",
           "dtype": "f8",
           "shape": "3"
          },
          "bdata": "AAAAAAAAEEDNO39mnqAWQAAAAAAAABBA",
          "dtype": "f8"
         }
        },
        {
         "marker": {
          "color": "red",
          "line": {
           "color": "black",
           "width": 2
          },
          "size": 10,
          "symbol": "circle"
         },
         "mode": "markers",
         "name": "Class -",
         "type": "scatter3d",
         "x": {
          "_inputArray": {
           "0": 1,
           "1": 1.4142135623730951,
           "2": 1,
           "bdata": "AAAAAAAA8D/NO39mnqD2PwAAAAAAAPA/",
           "dtype": "f8",
           "shape": "3"
          },
          "bdata": "AAAAAAAA8D/NO39mnqD2PwAAAAAAAPA/",
          "dtype": "f8"
         },
         "y": {
          "_inputArray": {
           "0": 1.44,
           "1": 1.3576450198781713,
           "2": 0.6400000000000001,
           "bdata": "CtejcD0K9z+mQ//76bj1P3wUrkfheuQ/",
           "dtype": "f8",
           "shape": "3"
          },
          "bdata": "CtejcD0K9z+mQ//76bj1P3wUrkfheuQ/",
          "dtype": "f8"
         },
         "z": {
          "_inputArray": {
           "0": 0.81,
           "1": 1.4000714267493644,
           "2": 1.2100000000000002,
           "bdata": "7FG4HoXr6T/EPd9LsWb2P12PwvUoXPM/",
           "dtype": "f8",
           "shape": "3"
          },
          "bdata": "7FG4HoXr6T/EPd9LsWb2P12PwvUoXPM/",
          "dtype": "f8"
         }
        },
        {
         "colorscale": [
          [
           0,
           "rgb(247,252,245)"
          ],
          [
           0.125,
           "rgb(229,245,224)"
          ],
          [
           0.25,
           "rgb(199,233,192)"
          ],
          [
           0.375,
           "rgb(161,217,155)"
          ],
          [
           0.5,
           "rgb(116,196,118)"
          ],
          [
           0.625,
           "rgb(65,171,93)"
          ],
          [
           0.75,
           "rgb(35,139,69)"
          ],
          [
           0.875,
           "rgb(0,109,44)"
          ],
          [
           1,
           "rgb(0,68,27)"
          ]
         ],
         "name": "Separating Plane",
         "opacity": 0.3,
         "showscale": false,
         "type": "surface",
         "x": {
          "_inputArray": [
           {
            "0": 0,
            "1": 0.21052631578947367,
            "10": 2.1052631578947367,
            "11": 2.3157894736842106,
            "12": 2.526315789473684,
            "13": 2.7368421052631575,
            "14": 2.9473684210526314,
            "15": 3.1578947368421053,
            "16": 3.3684210526315788,
            "17": 3.578947368421052,
            "18": 3.789473684210526,
            "19": 4,
            "2": 0.42105263157894735,
            "3": 0.631578947368421,
            "4": 0.8421052631578947,
            "5": 1.0526315789473684,
            "6": 1.263157894736842,
            "7": 1.4736842105263157,
            "8": 1.6842105263157894,
            "9": 1.894736842105263
           },
           {
            "0": 0,
            "1": 0.21052631578947367,
            "10": 2.1052631578947367,
            "11": 2.3157894736842106,
            "12": 2.526315789473684,
            "13": 2.7368421052631575,
            "14": 2.9473684210526314,
            "15": 3.1578947368421053,
            "16": 3.3684210526315788,
            "17": 3.578947368421052,
            "18": 3.789473684210526,
            "19": 4,
            "2": 0.42105263157894735,
            "3": 0.631578947368421,
            "4": 0.8421052631578947,
            "5": 1.0526315789473684,
            "6": 1.263157894736842,
            "7": 1.4736842105263157,
            "8": 1.6842105263157894,
            "9": 1.894736842105263
           },
           {
            "0": 0,
            "1": 0.21052631578947367,
            "10": 2.1052631578947367,
            "11": 2.3157894736842106,
            "12": 2.526315789473684,
            "13": 2.7368421052631575,
            "14": 2.9473684210526314,
            "15": 3.1578947368421053,
            "16": 3.3684210526315788,
            "17": 3.578947368421052,
            "18": 3.789473684210526,
            "19": 4,
            "2": 0.42105263157894735,
            "3": 0.631578947368421,
            "4": 0.8421052631578947,
            "5": 1.0526315789473684,
            "6": 1.263157894736842,
            "7": 1.4736842105263157,
            "8": 1.6842105263157894,
            "9": 1.894736842105263
           },
           {
            "0": 0,
            "1": 0.21052631578947367,
            "10": 2.1052631578947367,
            "11": 2.3157894736842106,
            "12": 2.526315789473684,
            "13": 2.7368421052631575,
            "14": 2.9473684210526314,
            "15": 3.1578947368421053,
            "16": 3.3684210526315788,
            "17": 3.578947368421052,
            "18": 3.789473684210526,
            "19": 4,
            "2": 0.42105263157894735,
            "3": 0.631578947368421,
            "4": 0.8421052631578947,
            "5": 1.0526315789473684,
            "6": 1.263157894736842,
            "7": 1.4736842105263157,
            "8": 1.6842105263157894,
            "9": 1.894736842105263
           },
           {
            "0": 0,
            "1": 0.21052631578947367,
            "10": 2.1052631578947367,
            "11": 2.3157894736842106,
            "12": 2.526315789473684,
            "13": 2.7368421052631575,
            "14": 2.9473684210526314,
            "15": 3.1578947368421053,
            "16": 3.3684210526315788,
            "17": 3.578947368421052,
            "18": 3.789473684210526,
            "19": 4,
            "2": 0.42105263157894735,
            "3": 0.631578947368421,
            "4": 0.8421052631578947,
            "5": 1.0526315789473684,
            "6": 1.263157894736842,
            "7": 1.4736842105263157,
            "8": 1.6842105263157894,
            "9": 1.894736842105263
           },
           {
            "0": 0,
            "1": 0.21052631578947367,
            "10": 2.1052631578947367,
            "11": 2.3157894736842106,
            "12": 2.526315789473684,
            "13": 2.7368421052631575,
            "14": 2.9473684210526314,
            "15": 3.1578947368421053,
            "16": 3.3684210526315788,
            "17": 3.578947368421052,
            "18": 3.789473684210526,
            "19": 4,
            "2": 0.42105263157894735,
            "3": 0.631578947368421,
            "4": 0.8421052631578947,
            "5": 1.0526315789473684,
            "6": 1.263157894736842,
            "7": 1.4736842105263157,
            "8": 1.6842105263157894,
            "9": 1.894736842105263
           },
           {
            "0": 0,
            "1": 0.21052631578947367,
            "10": 2.1052631578947367,
            "11": 2.3157894736842106,
            "12": 2.526315789473684,
            "13": 2.7368421052631575,
            "14": 2.9473684210526314,
            "15": 3.1578947368421053,
            "16": 3.3684210526315788,
            "17": 3.578947368421052,
            "18": 3.789473684210526,
            "19": 4,
            "2": 0.42105263157894735,
            "3": 0.631578947368421,
            "4": 0.8421052631578947,
            "5": 1.0526315789473684,
            "6": 1.263157894736842,
            "7": 1.4736842105263157,
            "8": 1.6842105263157894,
            "9": 1.894736842105263
           },
           {
            "0": 0,
            "1": 0.21052631578947367,
            "10": 2.1052631578947367,
            "11": 2.3157894736842106,
            "12": 2.526315789473684,
            "13": 2.7368421052631575,
            "14": 2.9473684210526314,
            "15": 3.1578947368421053,
            "16": 3.3684210526315788,
            "17": 3.578947368421052,
            "18": 3.789473684210526,
            "19": 4,
            "2": 0.42105263157894735,
            "3": 0.631578947368421,
            "4": 0.8421052631578947,
            "5": 1.0526315789473684,
            "6": 1.263157894736842,
            "7": 1.4736842105263157,
            "8": 1.6842105263157894,
            "9": 1.894736842105263
           },
           {
            "0": 0,
            "1": 0.21052631578947367,
            "10": 2.1052631578947367,
            "11": 2.3157894736842106,
            "12": 2.526315789473684,
            "13": 2.7368421052631575,
            "14": 2.9473684210526314,
            "15": 3.1578947368421053,
            "16": 3.3684210526315788,
            "17": 3.578947368421052,
            "18": 3.789473684210526,
            "19": 4,
            "2": 0.42105263157894735,
            "3": 0.631578947368421,
            "4": 0.8421052631578947,
            "5": 1.0526315789473684,
            "6": 1.263157894736842,
            "7": 1.4736842105263157,
            "8": 1.6842105263157894,
            "9": 1.894736842105263
           },
           {
            "0": 0,
            "1": 0.21052631578947367,
            "10": 2.1052631578947367,
            "11": 2.3157894736842106,
            "12": 2.526315789473684,
            "13": 2.7368421052631575,
            "14": 2.9473684210526314,
            "15": 3.1578947368421053,
            "16": 3.3684210526315788,
            "17": 3.578947368421052,
            "18": 3.789473684210526,
            "19": 4,
            "2": 0.42105263157894735,
            "3": 0.631578947368421,
            "4": 0.8421052631578947,
            "5": 1.0526315789473684,
            "6": 1.263157894736842,
            "7": 1.4736842105263157,
            "8": 1.6842105263157894,
            "9": 1.894736842105263
           },
           {
            "0": 0,
            "1": 0.21052631578947367,
            "10": 2.1052631578947367,
            "11": 2.3157894736842106,
            "12": 2.526315789473684,
            "13": 2.7368421052631575,
            "14": 2.9473684210526314,
            "15": 3.1578947368421053,
            "16": 3.3684210526315788,
            "17": 3.578947368421052,
            "18": 3.789473684210526,
            "19": 4,
            "2": 0.42105263157894735,
            "3": 0.631578947368421,
            "4": 0.8421052631578947,
            "5": 1.0526315789473684,
            "6": 1.263157894736842,
            "7": 1.4736842105263157,
            "8": 1.6842105263157894,
            "9": 1.894736842105263
           },
           {
            "0": 0,
            "1": 0.21052631578947367,
            "10": 2.1052631578947367,
            "11": 2.3157894736842106,
            "12": 2.526315789473684,
            "13": 2.7368421052631575,
            "14": 2.9473684210526314,
            "15": 3.1578947368421053,
            "16": 3.3684210526315788,
            "17": 3.578947368421052,
            "18": 3.789473684210526,
            "19": 4,
            "2": 0.42105263157894735,
            "3": 0.631578947368421,
            "4": 0.8421052631578947,
            "5": 1.0526315789473684,
            "6": 1.263157894736842,
            "7": 1.4736842105263157,
            "8": 1.6842105263157894,
            "9": 1.894736842105263
           },
           {
            "0": 0,
            "1": 0.21052631578947367,
            "10": 2.1052631578947367,
            "11": 2.3157894736842106,
            "12": 2.526315789473684,
            "13": 2.7368421052631575,
            "14": 2.9473684210526314,
            "15": 3.1578947368421053,
            "16": 3.3684210526315788,
            "17": 3.578947368421052,
            "18": 3.789473684210526,
            "19": 4,
            "2": 0.42105263157894735,
            "3": 0.631578947368421,
            "4": 0.8421052631578947,
            "5": 1.0526315789473684,
            "6": 1.263157894736842,
            "7": 1.4736842105263157,
            "8": 1.6842105263157894,
            "9": 1.894736842105263
           },
           {
            "0": 0,
            "1": 0.21052631578947367,
            "10": 2.1052631578947367,
            "11": 2.3157894736842106,
            "12": 2.526315789473684,
            "13": 2.7368421052631575,
            "14": 2.9473684210526314,
            "15": 3.1578947368421053,
            "16": 3.3684210526315788,
            "17": 3.578947368421052,
            "18": 3.789473684210526,
            "19": 4,
            "2": 0.42105263157894735,
            "3": 0.631578947368421,
            "4": 0.8421052631578947,
            "5": 1.0526315789473684,
            "6": 1.263157894736842,
            "7": 1.4736842105263157,
            "8": 1.6842105263157894,
            "9": 1.894736842105263
           },
           {
            "0": 0,
            "1": 0.21052631578947367,
            "10": 2.1052631578947367,
            "11": 2.3157894736842106,
            "12": 2.526315789473684,
            "13": 2.7368421052631575,
            "14": 2.9473684210526314,
            "15": 3.1578947368421053,
            "16": 3.3684210526315788,
            "17": 3.578947368421052,
            "18": 3.789473684210526,
            "19": 4,
            "2": 0.42105263157894735,
            "3": 0.631578947368421,
            "4": 0.8421052631578947,
            "5": 1.0526315789473684,
            "6": 1.263157894736842,
            "7": 1.4736842105263157,
            "8": 1.6842105263157894,
            "9": 1.894736842105263
           },
           {
            "0": 0,
            "1": 0.21052631578947367,
            "10": 2.1052631578947367,
            "11": 2.3157894736842106,
            "12": 2.526315789473684,
            "13": 2.7368421052631575,
            "14": 2.9473684210526314,
            "15": 3.1578947368421053,
            "16": 3.3684210526315788,
            "17": 3.578947368421052,
            "18": 3.789473684210526,
            "19": 4,
            "2": 0.42105263157894735,
            "3": 0.631578947368421,
            "4": 0.8421052631578947,
            "5": 1.0526315789473684,
            "6": 1.263157894736842,
            "7": 1.4736842105263157,
            "8": 1.6842105263157894,
            "9": 1.894736842105263
           },
           {
            "0": 0,
            "1": 0.21052631578947367,
            "10": 2.1052631578947367,
            "11": 2.3157894736842106,
            "12": 2.526315789473684,
            "13": 2.7368421052631575,
            "14": 2.9473684210526314,
            "15": 3.1578947368421053,
            "16": 3.3684210526315788,
            "17": 3.578947368421052,
            "18": 3.789473684210526,
            "19": 4,
            "2": 0.42105263157894735,
            "3": 0.631578947368421,
            "4": 0.8421052631578947,
            "5": 1.0526315789473684,
            "6": 1.263157894736842,
            "7": 1.4736842105263157,
            "8": 1.6842105263157894,
            "9": 1.894736842105263
           },
           {
            "0": 0,
            "1": 0.21052631578947367,
            "10": 2.1052631578947367,
            "11": 2.3157894736842106,
            "12": 2.526315789473684,
            "13": 2.7368421052631575,
            "14": 2.9473684210526314,
            "15": 3.1578947368421053,
            "16": 3.3684210526315788,
            "17": 3.578947368421052,
            "18": 3.789473684210526,
            "19": 4,
            "2": 0.42105263157894735,
            "3": 0.631578947368421,
            "4": 0.8421052631578947,
            "5": 1.0526315789473684,
            "6": 1.263157894736842,
            "7": 1.4736842105263157,
            "8": 1.6842105263157894,
            "9": 1.894736842105263
           },
           {
            "0": 0,
            "1": 0.21052631578947367,
            "10": 2.1052631578947367,
            "11": 2.3157894736842106,
            "12": 2.526315789473684,
            "13": 2.7368421052631575,
            "14": 2.9473684210526314,
            "15": 3.1578947368421053,
            "16": 3.3684210526315788,
            "17": 3.578947368421052,
            "18": 3.789473684210526,
            "19": 4,
            "2": 0.42105263157894735,
            "3": 0.631578947368421,
            "4": 0.8421052631578947,
            "5": 1.0526315789473684,
            "6": 1.263157894736842,
            "7": 1.4736842105263157,
            "8": 1.6842105263157894,
            "9": 1.894736842105263
           },
           {
            "0": 0,
            "1": 0.21052631578947367,
            "10": 2.1052631578947367,
            "11": 2.3157894736842106,
            "12": 2.526315789473684,
            "13": 2.7368421052631575,
            "14": 2.9473684210526314,
            "15": 3.1578947368421053,
            "16": 3.3684210526315788,
            "17": 3.578947368421052,
            "18": 3.789473684210526,
            "19": 4,
            "2": 0.42105263157894735,
            "3": 0.631578947368421,
            "4": 0.8421052631578947,
            "5": 1.0526315789473684,
            "6": 1.263157894736842,
            "7": 1.4736842105263157,
            "8": 1.6842105263157894,
            "9": 1.894736842105263
           }
          ],
          "bdata": "AAAAAAAAAAAor6G8hvLKPyivobyG8to/XkN5DeU15D8or6G8hvLqP3kN5TWU1/A/XkN5DeU19D9DeQ3lNZT3PyivobyG8vo/DeU1lNdQ/j95DeU1lNcAQGwor6G8hgJAXkN5DeU1BEBQXkN5DeUFQEN5DeU1lAdANpTXUF5DCUAor6G8hvIKQBrKayivoQxADeU1lNdQDkAAAAAAAAAQQAAAAAAAAAAAKK+hvIbyyj8or6G8hvLaP15DeQ3lNeQ/KK+hvIby6j95DeU1lNfwP15DeQ3lNfQ/Q3kN5TWU9z8or6G8hvL6Pw3lNZTXUP4/eQ3lNZTXAEBsKK+hvIYCQF5DeQ3lNQRAUF5DeQ3lBUBDeQ3lNZQHQDaU11BeQwlAKK+hvIbyCkAaymsor6EMQA3lNZTXUA5AAAAAAAAAEEAAAAAAAAAAACivobyG8so/KK+hvIby2j9eQ3kN5TXkPyivobyG8uo/eQ3lNZTX8D9eQ3kN5TX0P0N5DeU1lPc/KK+hvIby+j8N5TWU11D+P3kN5TWU1wBAbCivobyGAkBeQ3kN5TUEQFBeQ3kN5QVAQ3kN5TWUB0A2lNdQXkMJQCivobyG8gpAGsprKK+hDEAN5TWU11AOQAAAAAAAABBAAAAAAAAAAAAor6G8hvLKPyivobyG8to/XkN5DeU15D8or6G8hvLqP3kN5TWU1/A/XkN5DeU19D9DeQ3lNZT3PyivobyG8vo/DeU1lNdQ/j95DeU1lNcAQGwor6G8hgJAXkN5DeU1BEBQXkN5DeUFQEN5DeU1lAdANpTXUF5DCUAor6G8hvIKQBrKayivoQxADeU1lNdQDkAAAAAAAAAQQAAAAAAAAAAAKK+hvIbyyj8or6G8hvLaP15DeQ3lNeQ/KK+hvIby6j95DeU1lNfwP15DeQ3lNfQ/Q3kN5TWU9z8or6G8hvL6Pw3lNZTXUP4/eQ3lNZTXAEBsKK+hvIYCQF5DeQ3lNQRAUF5DeQ3lBUBDeQ3lNZQHQDaU11BeQwlAKK+hvIbyCkAaymsor6EMQA3lNZTXUA5AAAAAAAAAEEAAAAAAAAAAACivobyG8so/KK+hvIby2j9eQ3kN5TXkPyivobyG8uo/eQ3lNZTX8D9eQ3kN5TX0P0N5DeU1lPc/KK+hvIby+j8N5TWU11D+P3kN5TWU1wBAbCivobyGAkBeQ3kN5TUEQFBeQ3kN5QVAQ3kN5TWUB0A2lNdQXkMJQCivobyG8gpAGsprKK+hDEAN5TWU11AOQAAAAAAAABBAAAAAAAAAAAAor6G8hvLKPyivobyG8to/XkN5DeU15D8or6G8hvLqP3kN5TWU1/A/XkN5DeU19D9DeQ3lNZT3PyivobyG8vo/DeU1lNdQ/j95DeU1lNcAQGwor6G8hgJAXkN5DeU1BEBQXkN5DeUFQEN5DeU1lAdANpTXUF5DCUAor6G8hvIKQBrKayivoQxADeU1lNdQDkAAAAAAAAAQQAAAAAAAAAAAKK+hvIbyyj8or6G8hvLaP15DeQ3lNeQ/KK+hvIby6j95DeU1lNfwP15DeQ3lNfQ/Q3kN5TWU9z8or6G8hvL6Pw3lNZTXUP4/eQ3lNZTXAEBsKK+hvIYCQF5DeQ3lNQRAUF5DeQ3lBUBDeQ3lNZQHQDaU11BeQwlAKK+hvIbyCkAaymsor6EMQA3lNZTXUA5AAAAAAAAAEEAAAAAAAAAAACivobyG8so/KK+hvIby2j9eQ3kN5TXkPyivobyG8uo/eQ3lNZTX8D9eQ3kN5TX0P0N5DeU1lPc/KK+hvIby+j8N5TWU11D+P3kN5TWU1wBAbCivobyGAkBeQ3kN5TUEQFBeQ3kN5QVAQ3kN5TWUB0A2lNdQXkMJQCivobyG8gpAGsprKK+hDEAN5TWU11AOQAAAAAAAABBAAAAAAAAAAAAor6G8hvLKPyivobyG8to/XkN5DeU15D8or6G8hvLqP3kN5TWU1/A/XkN5DeU19D9DeQ3lNZT3PyivobyG8vo/DeU1lNdQ/j95DeU1lNcAQGwor6G8hgJAXkN5DeU1BEBQXkN5DeUFQEN5DeU1lAdANpTXUF5DCUAor6G8hvIKQBrKayivoQxADeU1lNdQDkAAAAAAAAAQQAAAAAAAAAAAKK+hvIbyyj8or6G8hvLaP15DeQ3lNeQ/KK+hvIby6j95DeU1lNfwP15DeQ3lNfQ/Q3kN5TWU9z8or6G8hvL6Pw3lNZTXUP4/eQ3lNZTXAEBsKK+hvIYCQF5DeQ3lNQRAUF5DeQ3lBUBDeQ3lNZQHQDaU11BeQwlAKK+hvIbyCkAaymsor6EMQA3lNZTXUA5AAAAAAAAAEEAAAAAAAAAAACivobyG8so/KK+hvIby2j9eQ3kN5TXkPyivobyG8uo/eQ3lNZTX8D9eQ3kN5TX0P0N5DeU1lPc/KK+hvIby+j8N5TWU11D+P3kN5TWU1wBAbCivobyGAkBeQ3kN5TUEQFBeQ3kN5QVAQ3kN5TWUB0A2lNdQXkMJQCivobyG8gpAGsprKK+hDEAN5TWU11AOQAAAAAAAABBAAAAAAAAAAAAor6G8hvLKPyivobyG8to/XkN5DeU15D8or6G8hvLqP3kN5TWU1/A/XkN5DeU19D9DeQ3lNZT3PyivobyG8vo/DeU1lNdQ/j95DeU1lNcAQGwor6G8hgJAXkN5DeU1BEBQXkN5DeUFQEN5DeU1lAdANpTXUF5DCUAor6G8hvIKQBrKayivoQxADeU1lNdQDkAAAAAAAAAQQAAAAAAAAAAAKK+hvIbyyj8or6G8hvLaP15DeQ3lNeQ/KK+hvIby6j95DeU1lNfwP15DeQ3lNfQ/Q3kN5TWU9z8or6G8hvL6Pw3lNZTXUP4/eQ3lNZTXAEBsKK+hvIYCQF5DeQ3lNQRAUF5DeQ3lBUBDeQ3lNZQHQDaU11BeQwlAKK+hvIbyCkAaymsor6EMQA3lNZTXUA5AAAAAAAAAEEAAAAAAAAAAACivobyG8so/KK+hvIby2j9eQ3kN5TXkPyivobyG8uo/eQ3lNZTX8D9eQ3kN5TX0P0N5DeU1lPc/KK+hvIby+j8N5TWU11D+P3kN5TWU1wBAbCivobyGAkBeQ3kN5TUEQFBeQ3kN5QVAQ3kN5TWUB0A2lNdQXkMJQCivobyG8gpAGsprKK+hDEAN5TWU11AOQAAAAAAAABBAAAAAAAAAAAAor6G8hvLKPyivobyG8to/XkN5DeU15D8or6G8hvLqP3kN5TWU1/A/XkN5DeU19D9DeQ3lNZT3PyivobyG8vo/DeU1lNdQ/j95DeU1lNcAQGwor6G8hgJAXkN5DeU1BEBQXkN5DeUFQEN5DeU1lAdANpTXUF5DCUAor6G8hvIKQBrKayivoQxADeU1lNdQDkAAAAAAAAAQQAAAAAAAAAAAKK+hvIbyyj8or6G8hvLaP15DeQ3lNeQ/KK+hvIby6j95DeU1lNfwP15DeQ3lNfQ/Q3kN5TWU9z8or6G8hvL6Pw3lNZTXUP4/eQ3lNZTXAEBsKK+hvIYCQF5DeQ3lNQRAUF5DeQ3lBUBDeQ3lNZQHQDaU11BeQwlAKK+hvIbyCkAaymsor6EMQA3lNZTXUA5AAAAAAAAAEEAAAAAAAAAAACivobyG8so/KK+hvIby2j9eQ3kN5TXkPyivobyG8uo/eQ3lNZTX8D9eQ3kN5TX0P0N5DeU1lPc/KK+hvIby+j8N5TWU11D+P3kN5TWU1wBAbCivobyGAkBeQ3kN5TUEQFBeQ3kN5QVAQ3kN5TWUB0A2lNdQXkMJQCivobyG8gpAGsprKK+hDEAN5TWU11AOQAAAAAAAABBAAAAAAAAAAAAor6G8hvLKPyivobyG8to/XkN5DeU15D8or6G8hvLqP3kN5TWU1/A/XkN5DeU19D9DeQ3lNZT3PyivobyG8vo/DeU1lNdQ/j95DeU1lNcAQGwor6G8hgJAXkN5DeU1BEBQXkN5DeUFQEN5DeU1lAdANpTXUF5DCUAor6G8hvIKQBrKayivoQxADeU1lNdQDkAAAAAAAAAQQAAAAAAAAAAAKK+hvIbyyj8or6G8hvLaP15DeQ3lNeQ/KK+hvIby6j95DeU1lNfwP15DeQ3lNfQ/Q3kN5TWU9z8or6G8hvL6Pw3lNZTXUP4/eQ3lNZTXAEBsKK+hvIYCQF5DeQ3lNQRAUF5DeQ3lBUBDeQ3lNZQHQDaU11BeQwlAKK+hvIbyCkAaymsor6EMQA3lNZTXUA5AAAAAAAAAEEA=",
          "dtype": "f8",
          "shape": "20, 20"
         },
         "y": {
          "_inputArray": [
           {
            "0": -2,
            "1": -2,
            "10": -2,
            "11": -2,
            "12": -2,
            "13": -2,
            "14": -2,
            "15": -2,
            "16": -2,
            "17": -2,
            "18": -2,
            "19": -2,
            "2": -2,
            "3": -2,
            "4": -2,
            "5": -2,
            "6": -2,
            "7": -2,
            "8": -2,
            "9": -2
           },
           {
            "0": -1.5789473684210527,
            "1": -1.5789473684210527,
            "10": -1.5789473684210527,
            "11": -1.5789473684210527,
            "12": -1.5789473684210527,
            "13": -1.5789473684210527,
            "14": -1.5789473684210527,
            "15": -1.5789473684210527,
            "16": -1.5789473684210527,
            "17": -1.5789473684210527,
            "18": -1.5789473684210527,
            "19": -1.5789473684210527,
            "2": -1.5789473684210527,
            "3": -1.5789473684210527,
            "4": -1.5789473684210527,
            "5": -1.5789473684210527,
            "6": -1.5789473684210527,
            "7": -1.5789473684210527,
            "8": -1.5789473684210527,
            "9": -1.5789473684210527
           },
           {
            "0": -1.1578947368421053,
            "1": -1.1578947368421053,
            "10": -1.1578947368421053,
            "11": -1.1578947368421053,
            "12": -1.1578947368421053,
            "13": -1.1578947368421053,
            "14": -1.1578947368421053,
            "15": -1.1578947368421053,
            "16": -1.1578947368421053,
            "17": -1.1578947368421053,
            "18": -1.1578947368421053,
            "19": -1.1578947368421053,
            "2": -1.1578947368421053,
            "3": -1.1578947368421053,
            "4": -1.1578947368421053,
            "5": -1.1578947368421053,
            "6": -1.1578947368421053,
            "7": -1.1578947368421053,
            "8": -1.1578947368421053,
            "9": -1.1578947368421053
           },
           {
            "0": -0.736842105263158,
            "1": -0.736842105263158,
            "10": -0.736842105263158,
            "11": -0.736842105263158,
            "12": -0.736842105263158,
            "13": -0.736842105263158,
            "14": -0.736842105263158,
            "15": -0.736842105263158,
            "16": -0.736842105263158,
            "17": -0.736842105263158,
            "18": -0.736842105263158,
            "19": -0.736842105263158,
            "2": -0.736842105263158,
            "3": -0.736842105263158,
            "4": -0.736842105263158,
            "5": -0.736842105263158,
            "6": -0.736842105263158,
            "7": -0.736842105263158,
            "8": -0.736842105263158,
            "9": -0.736842105263158
           },
           {
            "0": -0.3157894736842106,
            "1": -0.3157894736842106,
            "10": -0.3157894736842106,
            "11": -0.3157894736842106,
            "12": -0.3157894736842106,
            "13": -0.3157894736842106,
            "14": -0.3157894736842106,
            "15": -0.3157894736842106,
            "16": -0.3157894736842106,
            "17": -0.3157894736842106,
            "18": -0.3157894736842106,
            "19": -0.3157894736842106,
            "2": -0.3157894736842106,
            "3": -0.3157894736842106,
            "4": -0.3157894736842106,
            "5": -0.3157894736842106,
            "6": -0.3157894736842106,
            "7": -0.3157894736842106,
            "8": -0.3157894736842106,
            "9": -0.3157894736842106
           },
           {
            "0": 0.10526315789473673,
            "1": 0.10526315789473673,
            "10": 0.10526315789473673,
            "11": 0.10526315789473673,
            "12": 0.10526315789473673,
            "13": 0.10526315789473673,
            "14": 0.10526315789473673,
            "15": 0.10526315789473673,
            "16": 0.10526315789473673,
            "17": 0.10526315789473673,
            "18": 0.10526315789473673,
            "19": 0.10526315789473673,
            "2": 0.10526315789473673,
            "3": 0.10526315789473673,
            "4": 0.10526315789473673,
            "5": 0.10526315789473673,
            "6": 0.10526315789473673,
            "7": 0.10526315789473673,
            "8": 0.10526315789473673,
            "9": 0.10526315789473673
           },
           {
            "0": 0.5263157894736841,
            "1": 0.5263157894736841,
            "10": 0.5263157894736841,
            "11": 0.5263157894736841,
            "12": 0.5263157894736841,
            "13": 0.5263157894736841,
            "14": 0.5263157894736841,
            "15": 0.5263157894736841,
            "16": 0.5263157894736841,
            "17": 0.5263157894736841,
            "18": 0.5263157894736841,
            "19": 0.5263157894736841,
            "2": 0.5263157894736841,
            "3": 0.5263157894736841,
            "4": 0.5263157894736841,
            "5": 0.5263157894736841,
            "6": 0.5263157894736841,
            "7": 0.5263157894736841,
            "8": 0.5263157894736841,
            "9": 0.5263157894736841
           },
           {
            "0": 0.9473684210526314,
            "1": 0.9473684210526314,
            "10": 0.9473684210526314,
            "11": 0.9473684210526314,
            "12": 0.9473684210526314,
            "13": 0.9473684210526314,
            "14": 0.9473684210526314,
            "15": 0.9473684210526314,
            "16": 0.9473684210526314,
            "17": 0.9473684210526314,
            "18": 0.9473684210526314,
            "19": 0.9473684210526314,
            "2": 0.9473684210526314,
            "3": 0.9473684210526314,
            "4": 0.9473684210526314,
            "5": 0.9473684210526314,
            "6": 0.9473684210526314,
            "7": 0.9473684210526314,
            "8": 0.9473684210526314,
            "9": 0.9473684210526314
           },
           {
            "0": 1.3684210526315788,
            "1": 1.3684210526315788,
            "10": 1.3684210526315788,
            "11": 1.3684210526315788,
            "12": 1.3684210526315788,
            "13": 1.3684210526315788,
            "14": 1.3684210526315788,
            "15": 1.3684210526315788,
            "16": 1.3684210526315788,
            "17": 1.3684210526315788,
            "18": 1.3684210526315788,
            "19": 1.3684210526315788,
            "2": 1.3684210526315788,
            "3": 1.3684210526315788,
            "4": 1.3684210526315788,
            "5": 1.3684210526315788,
            "6": 1.3684210526315788,
            "7": 1.3684210526315788,
            "8": 1.3684210526315788,
            "9": 1.3684210526315788
           },
           {
            "0": 1.789473684210526,
            "1": 1.789473684210526,
            "10": 1.789473684210526,
            "11": 1.789473684210526,
            "12": 1.789473684210526,
            "13": 1.789473684210526,
            "14": 1.789473684210526,
            "15": 1.789473684210526,
            "16": 1.789473684210526,
            "17": 1.789473684210526,
            "18": 1.789473684210526,
            "19": 1.789473684210526,
            "2": 1.789473684210526,
            "3": 1.789473684210526,
            "4": 1.789473684210526,
            "5": 1.789473684210526,
            "6": 1.789473684210526,
            "7": 1.789473684210526,
            "8": 1.789473684210526,
            "9": 1.789473684210526
           },
           {
            "0": 2.2105263157894735,
            "1": 2.2105263157894735,
            "10": 2.2105263157894735,
            "11": 2.2105263157894735,
            "12": 2.2105263157894735,
            "13": 2.2105263157894735,
            "14": 2.2105263157894735,
            "15": 2.2105263157894735,
            "16": 2.2105263157894735,
            "17": 2.2105263157894735,
            "18": 2.2105263157894735,
            "19": 2.2105263157894735,
            "2": 2.2105263157894735,
            "3": 2.2105263157894735,
            "4": 2.2105263157894735,
            "5": 2.2105263157894735,
            "6": 2.2105263157894735,
            "7": 2.2105263157894735,
            "8": 2.2105263157894735,
            "9": 2.2105263157894735
           },
           {
            "0": 2.6315789473684212,
            "1": 2.6315789473684212,
            "10": 2.6315789473684212,
            "11": 2.6315789473684212,
            "12": 2.6315789473684212,
            "13": 2.6315789473684212,
            "14": 2.6315789473684212,
            "15": 2.6315789473684212,
            "16": 2.6315789473684212,
            "17": 2.6315789473684212,
            "18": 2.6315789473684212,
            "19": 2.6315789473684212,
            "2": 2.6315789473684212,
            "3": 2.6315789473684212,
            "4": 2.6315789473684212,
            "5": 2.6315789473684212,
            "6": 2.6315789473684212,
            "7": 2.6315789473684212,
            "8": 2.6315789473684212,
            "9": 2.6315789473684212
           },
           {
            "0": 3.052631578947368,
            "1": 3.052631578947368,
            "10": 3.052631578947368,
            "11": 3.052631578947368,
            "12": 3.052631578947368,
            "13": 3.052631578947368,
            "14": 3.052631578947368,
            "15": 3.052631578947368,
            "16": 3.052631578947368,
            "17": 3.052631578947368,
            "18": 3.052631578947368,
            "19": 3.052631578947368,
            "2": 3.052631578947368,
            "3": 3.052631578947368,
            "4": 3.052631578947368,
            "5": 3.052631578947368,
            "6": 3.052631578947368,
            "7": 3.052631578947368,
            "8": 3.052631578947368,
            "9": 3.052631578947368
           },
           {
            "0": 3.473684210526315,
            "1": 3.473684210526315,
            "10": 3.473684210526315,
            "11": 3.473684210526315,
            "12": 3.473684210526315,
            "13": 3.473684210526315,
            "14": 3.473684210526315,
            "15": 3.473684210526315,
            "16": 3.473684210526315,
            "17": 3.473684210526315,
            "18": 3.473684210526315,
            "19": 3.473684210526315,
            "2": 3.473684210526315,
            "3": 3.473684210526315,
            "4": 3.473684210526315,
            "5": 3.473684210526315,
            "6": 3.473684210526315,
            "7": 3.473684210526315,
            "8": 3.473684210526315,
            "9": 3.473684210526315
           },
           {
            "0": 3.894736842105263,
            "1": 3.894736842105263,
            "10": 3.894736842105263,
            "11": 3.894736842105263,
            "12": 3.894736842105263,
            "13": 3.894736842105263,
            "14": 3.894736842105263,
            "15": 3.894736842105263,
            "16": 3.894736842105263,
            "17": 3.894736842105263,
            "18": 3.894736842105263,
            "19": 3.894736842105263,
            "2": 3.894736842105263,
            "3": 3.894736842105263,
            "4": 3.894736842105263,
            "5": 3.894736842105263,
            "6": 3.894736842105263,
            "7": 3.894736842105263,
            "8": 3.894736842105263,
            "9": 3.894736842105263
           },
           {
            "0": 4.315789473684211,
            "1": 4.315789473684211,
            "10": 4.315789473684211,
            "11": 4.315789473684211,
            "12": 4.315789473684211,
            "13": 4.315789473684211,
            "14": 4.315789473684211,
            "15": 4.315789473684211,
            "16": 4.315789473684211,
            "17": 4.315789473684211,
            "18": 4.315789473684211,
            "19": 4.315789473684211,
            "2": 4.315789473684211,
            "3": 4.315789473684211,
            "4": 4.315789473684211,
            "5": 4.315789473684211,
            "6": 4.315789473684211,
            "7": 4.315789473684211,
            "8": 4.315789473684211,
            "9": 4.315789473684211
           },
           {
            "0": 4.7368421052631575,
            "1": 4.7368421052631575,
            "10": 4.7368421052631575,
            "11": 4.7368421052631575,
            "12": 4.7368421052631575,
            "13": 4.7368421052631575,
            "14": 4.7368421052631575,
            "15": 4.7368421052631575,
            "16": 4.7368421052631575,
            "17": 4.7368421052631575,
            "18": 4.7368421052631575,
            "19": 4.7368421052631575,
            "2": 4.7368421052631575,
            "3": 4.7368421052631575,
            "4": 4.7368421052631575,
            "5": 4.7368421052631575,
            "6": 4.7368421052631575,
            "7": 4.7368421052631575,
            "8": 4.7368421052631575,
            "9": 4.7368421052631575
           },
           {
            "0": 5.157894736842104,
            "1": 5.157894736842104,
            "10": 5.157894736842104,
            "11": 5.157894736842104,
            "12": 5.157894736842104,
            "13": 5.157894736842104,
            "14": 5.157894736842104,
            "15": 5.157894736842104,
            "16": 5.157894736842104,
            "17": 5.157894736842104,
            "18": 5.157894736842104,
            "19": 5.157894736842104,
            "2": 5.157894736842104,
            "3": 5.157894736842104,
            "4": 5.157894736842104,
            "5": 5.157894736842104,
            "6": 5.157894736842104,
            "7": 5.157894736842104,
            "8": 5.157894736842104,
            "9": 5.157894736842104
           },
           {
            "0": 5.578947368421052,
            "1": 5.578947368421052,
            "10": 5.578947368421052,
            "11": 5.578947368421052,
            "12": 5.578947368421052,
            "13": 5.578947368421052,
            "14": 5.578947368421052,
            "15": 5.578947368421052,
            "16": 5.578947368421052,
            "17": 5.578947368421052,
            "18": 5.578947368421052,
            "19": 5.578947368421052,
            "2": 5.578947368421052,
            "3": 5.578947368421052,
            "4": 5.578947368421052,
            "5": 5.578947368421052,
            "6": 5.578947368421052,
            "7": 5.578947368421052,
            "8": 5.578947368421052,
            "9": 5.578947368421052
           },
           {
            "0": 6,
            "1": 6,
            "10": 6,
            "11": 6,
            "12": 6,
            "13": 6,
            "14": 6,
            "15": 6,
            "16": 6,
            "17": 6,
            "18": 6,
            "19": 6,
            "2": 6,
            "3": 6,
            "4": 6,
            "5": 6,
            "6": 6,
            "7": 6,
            "8": 6,
            "9": 6
           }
          ],
          "bdata": "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",
          "dtype": "f8",
          "shape": "20, 20"
         },
         "z": {
          "_inputArray": [
           {
            "0": 2,
            "1": 2,
            "10": 2,
            "11": 2,
            "12": 2,
            "13": 2,
            "14": 2,
            "15": 2,
            "16": 2,
            "17": 2,
            "18": 2,
            "19": 2,
            "2": 2,
            "3": 2,
            "4": 2,
            "5": 2,
            "6": 2,
            "7": 2,
            "8": 2,
            "9": 2
           },
           {
            "0": 2,
            "1": 2,
            "10": 2,
            "11": 2,
            "12": 2,
            "13": 2,
            "14": 2,
            "15": 2,
            "16": 2,
            "17": 2,
            "18": 2,
            "19": 2,
            "2": 2,
            "3": 2,
            "4": 2,
            "5": 2,
            "6": 2,
            "7": 2,
            "8": 2,
            "9": 2
           },
           {
            "0": 2,
            "1": 2,
            "10": 2,
            "11": 2,
            "12": 2,
            "13": 2,
            "14": 2,
            "15": 2,
            "16": 2,
            "17": 2,
            "18": 2,
            "19": 2,
            "2": 2,
            "3": 2,
            "4": 2,
            "5": 2,
            "6": 2,
            "7": 2,
            "8": 2,
            "9": 2
           },
           {
            "0": 2,
            "1": 2,
            "10": 2,
            "11": 2,
            "12": 2,
            "13": 2,
            "14": 2,
            "15": 2,
            "16": 2,
            "17": 2,
            "18": 2,
            "19": 2,
            "2": 2,
            "3": 2,
            "4": 2,
            "5": 2,
            "6": 2,
            "7": 2,
            "8": 2,
            "9": 2
           },
           {
            "0": 2,
            "1": 2,
            "10": 2,
            "11": 2,
            "12": 2,
            "13": 2,
            "14": 2,
            "15": 2,
            "16": 2,
            "17": 2,
            "18": 2,
            "19": 2,
            "2": 2,
            "3": 2,
            "4": 2,
            "5": 2,
            "6": 2,
            "7": 2,
            "8": 2,
            "9": 2
           },
           {
            "0": 2,
            "1": 2,
            "10": 2,
            "11": 2,
            "12": 2,
            "13": 2,
            "14": 2,
            "15": 2,
            "16": 2,
            "17": 2,
            "18": 2,
            "19": 2,
            "2": 2,
            "3": 2,
            "4": 2,
            "5": 2,
            "6": 2,
            "7": 2,
            "8": 2,
            "9": 2
           },
           {
            "0": 2,
            "1": 2,
            "10": 2,
            "11": 2,
            "12": 2,
            "13": 2,
            "14": 2,
            "15": 2,
            "16": 2,
            "17": 2,
            "18": 2,
            "19": 2,
            "2": 2,
            "3": 2,
            "4": 2,
            "5": 2,
            "6": 2,
            "7": 2,
            "8": 2,
            "9": 2
           },
           {
            "0": 2,
            "1": 2,
            "10": 2,
            "11": 2,
            "12": 2,
            "13": 2,
            "14": 2,
            "15": 2,
            "16": 2,
            "17": 2,
            "18": 2,
            "19": 2,
            "2": 2,
            "3": 2,
            "4": 2,
            "5": 2,
            "6": 2,
            "7": 2,
            "8": 2,
            "9": 2
           },
           {
            "0": 2,
            "1": 2,
            "10": 2,
            "11": 2,
            "12": 2,
            "13": 2,
            "14": 2,
            "15": 2,
            "16": 2,
            "17": 2,
            "18": 2,
            "19": 2,
            "2": 2,
            "3": 2,
            "4": 2,
            "5": 2,
            "6": 2,
            "7": 2,
            "8": 2,
            "9": 2
           },
           {
            "0": 2,
            "1": 2,
            "10": 2,
            "11": 2,
            "12": 2,
            "13": 2,
            "14": 2,
            "15": 2,
            "16": 2,
            "17": 2,
            "18": 2,
            "19": 2,
            "2": 2,
            "3": 2,
            "4": 2,
            "5": 2,
            "6": 2,
            "7": 2,
            "8": 2,
            "9": 2
           },
           {
            "0": 2,
            "1": 2,
            "10": 2,
            "11": 2,
            "12": 2,
            "13": 2,
            "14": 2,
            "15": 2,
            "16": 2,
            "17": 2,
            "18": 2,
            "19": 2,
            "2": 2,
            "3": 2,
            "4": 2,
            "5": 2,
            "6": 2,
            "7": 2,
            "8": 2,
            "9": 2
           },
           {
            "0": 2,
            "1": 2,
            "10": 2,
            "11": 2,
            "12": 2,
            "13": 2,
            "14": 2,
            "15": 2,
            "16": 2,
            "17": 2,
            "18": 2,
            "19": 2,
            "2": 2,
            "3": 2,
            "4": 2,
            "5": 2,
            "6": 2,
            "7": 2,
            "8": 2,
            "9": 2
           },
           {
            "0": 2,
            "1": 2,
            "10": 2,
            "11": 2,
            "12": 2,
            "13": 2,
            "14": 2,
            "15": 2,
            "16": 2,
            "17": 2,
            "18": 2,
            "19": 2,
            "2": 2,
            "3": 2,
            "4": 2,
            "5": 2,
            "6": 2,
            "7": 2,
            "8": 2,
            "9": 2
           },
           {
            "0": 2,
            "1": 2,
            "10": 2,
            "11": 2,
            "12": 2,
            "13": 2,
            "14": 2,
            "15": 2,
            "16": 2,
            "17": 2,
            "18": 2,
            "19": 2,
            "2": 2,
            "3": 2,
            "4": 2,
            "5": 2,
            "6": 2,
            "7": 2,
            "8": 2,
            "9": 2
           },
           {
            "0": 2,
            "1": 2,
            "10": 2,
            "11": 2,
            "12": 2,
            "13": 2,
            "14": 2,
            "15": 2,
            "16": 2,
            "17": 2,
            "18": 2,
            "19": 2,
            "2": 2,
            "3": 2,
            "4": 2,
            "5": 2,
            "6": 2,
            "7": 2,
            "8": 2,
            "9": 2
           },
           {
            "0": 2,
            "1": 2,
            "10": 2,
            "11": 2,
            "12": 2,
            "13": 2,
            "14": 2,
            "15": 2,
            "16": 2,
            "17": 2,
            "18": 2,
            "19": 2,
            "2": 2,
            "3": 2,
            "4": 2,
            "5": 2,
            "6": 2,
            "7": 2,
            "8": 2,
            "9": 2
           },
           {
            "0": 2,
            "1": 2,
            "10": 2,
            "11": 2,
            "12": 2,
            "13": 2,
            "14": 2,
            "15": 2,
            "16": 2,
            "17": 2,
            "18": 2,
            "19": 2,
            "2": 2,
            "3": 2,
            "4": 2,
            "5": 2,
            "6": 2,
            "7": 2,
            "8": 2,
            "9": 2
           },
           {
            "0": 2,
            "1": 2,
            "10": 2,
            "11": 2,
            "12": 2,
            "13": 2,
            "14": 2,
            "15": 2,
            "16": 2,
            "17": 2,
            "18": 2,
            "19": 2,
            "2": 2,
            "3": 2,
            "4": 2,
            "5": 2,
            "6": 2,
            "7": 2,
            "8": 2,
            "9": 2
           },
           {
            "0": 2,
            "1": 2,
            "10": 2,
            "11": 2,
            "12": 2,
            "13": 2,
            "14": 2,
            "15": 2,
            "16": 2,
            "17": 2,
            "18": 2,
            "19": 2,
            "2": 2,
            "3": 2,
            "4": 2,
            "5": 2,
            "6": 2,
            "7": 2,
            "8": 2,
            "9": 2
           },
           {
            "0": 2,
            "1": 2,
            "10": 2,
            "11": 2,
            "12": 2,
            "13": 2,
            "14": 2,
            "15": 2,
            "16": 2,
            "17": 2,
            "18": 2,
            "19": 2,
            "2": 2,
            "3": 2,
            "4": 2,
            "5": 2,
            "6": 2,
            "7": 2,
            "8": 2,
            "9": 2
           }
          ],
          "bdata": "AAAAAAAAAEAAAAAAAAAAQAAAAAAAAABAAAAAAAAAAEAAAAAAAAAAQAAAAAAAAABAAAAAAAAAAEAAAAAAAAAAQAAAAAAAAABAAAAAAAAAAEAAAAAAAAAAQAAAAAAAAABAAAAAAAAAAEAAAAAAAAAAQAAAAAAAAABAAAAAAAAAAEAAAAAAAAAAQAAAAAAAAABAAAAAAAAAAEAAAAAAAAAAQAAAAAAAAABAAAAAAAAAAEAAAAAAAAAAQAAAAAAAAABAAAAAAAAAAEAAAAAAAAAAQAAAAAAAAABAAAAAAAAAAEAAAAAAAAAAQAAAAAAAAABAAAAAAAAAAEAAAAAAAAAAQAAAAAAAAABAAAAAAAAAAEAAAAAAAAAAQAAAAAAAAABAAAAAAAAAAEAAAAAAAAAAQAAAAAAAAABAAAAAAAAAAEAAAAAAAAAAQAAAAAAAAABAAAAAAAAAAEAAAAAAAAAAQAAAAAAAAABAAAAAAAAAAEAAAAAAAAAAQAAAAAAAAABAAAAAAAAAAEAAAAAAAAAAQAAAAAAAAABAAAAAAAAAAEAAAAAAAAAAQAAAAAAAAABAAAAAAAAAAEAAAAAAAAAAQAAAAAAAAABAAAAAAAAAAEAAAAAAAAAAQAAAAAAAAABAAAAAAAAAAEAAAAAAAAAAQAAAAAAAAABAAAAAAAAAAEAAAAAAAAAAQAAAAAAAAABAAAAAAAAAAEAAAAAAAAAAQAAAAAAAAABAAAAAAAAAAEAAAAAAAAAAQAAAAAAAAABAAAAAAAAAAEAAAAAAAAAAQAAAAAAAAABAAAAAAAAAAEAAAAAAAAAAQAAAAAAAAABAAAAAAAAAAEAAAAAAAAAAQAAAAAAAAABAAAAAAAAAAEAAAAAAAAAAQAAAAAAAAABAAAAAAAAAAEAAAAAAAAAAQAAAAAAAAABAAAAAAAAAAEAAAAAAAAAAQAAAAAAAAABAAAAAAAAAAEAAAAAAAAAAQAAAAAAAAABAAAAAAAAAAEAAAAAAAAAAQAAAAAAAAABAAAAAAAAAAEAAAAAAAAAAQAAAAAAAAABAAAAAAAAAAEAAAAAAAAAAQAAAAAAAAABAAAAAAAAAAEAAAAAAAAAAQAAAAAAAAABAAAAAAAAAAEAAAAAAAAAAQAAAAAAAAABAAAAAAAAAAEAAAAAAAAAAQAAAAAAAAABAAAAAAAAAAEAAAAAAAAAAQAAAAAAAAABAAAAAAAAAAEAAAAAAAAAAQAAAAAAAAABAAAAAAAAAAEAAAAAAAAAAQAAAAAAAAABAAAAAAAAAAEAAAAAAAAAAQAAAAAAAAABAAAAAAAAAAEAAAAAAAAAAQAAAAAAAAABAAAAAAAAAAEAAAAAAAAAAQAAAAAAAAABAAAAAAAAAAEAAAAAAAAAAQAAAAAAAAABAAAAAAAAAAEAAAAAAAAAAQAAAAAAAAABAAAAAAAAAAEAAAAAAAAAAQAAAAAAAAABAAAAAAAAAAEAAAAAAAAAAQAAAAAAAAABAAAAAAAAAAEAAAAAAAAAAQAAAAAAAAABAAAAAAAAAAEAAAAAAAAAAQAAAAAAAAABAAAAAAAAAAEAAAAAAAAAAQAAAAAAAAABAAAAAAAAAAEAAAAAAAAAAQAAAAAAAAABAAAAAAAAAAEAAAAAAAAAAQAAAAAAAAABAAAAAAAAAAEAAAAAAAAAAQAAAAAAAAABAAAAAAAAAAEAAAAAAAAAAQAAAAAAAAABAAAAAAAAAAEAAAAAAAAAAQAAAAAAAAABAAAAAAAAAAEAAAAAAAAAAQAAAAAAAAABAAAAAAAAAAEAAAAAAAAAAQAAAAAAAAABAAAAAAAAAAEAAAAAAAAAAQAAAAAAAAABAAAAAAAAAAEAAAAAAAAAAQAAAAAAAAABAAAAAAAAAAEAAAAAAAAAAQAAAAAAAAABAAAAAAAAAAEAAAAAAAAAAQAAAAAAAAABAAAAAAAAAAEAAAAAAAAAAQAAAAAAAAABAAAAAAAAAAEAAAAAAAAAAQAAAAAAAAABAAAAAAAAAAEAAAAAAAAAAQAAAAAAAAABAAAAAAAAAAEAAAAAAAAAAQAAAAAAAAABAAAAAAAAAAEAAAAAAAAAAQAAAAAAAAABAAAAAAAAAAEAAAAAAAAAAQAAAAAAAAABAAAAAAAAAAEAAAAAAAAAAQAAAAAAAAABAAAAAAAAAAEAAAAAAAAAAQAAAAAAAAABAAAAAAAAAAEAAAAAAAAAAQAAAAAAAAABAAAAAAAAAAEAAAAAAAAAAQAAAAAAAAABAAAAAAAAAAEAAAAAAAAAAQAAAAAAAAABAAAAAAAAAAEAAAAAAAAAAQAAAAAAAAABAAAAAAAAAAEAAAAAAAAAAQAAAAAAAAABAAAAAAAAAAEAAAAAAAAAAQAAAAAAAAABAAAAAAAAAAEAAAAAAAAAAQAAAAAAAAABAAAAAAAAAAEAAAAAAAAAAQAAAAAAAAABAAAAAAAAAAEAAAAAAAAAAQAAAAAAAAABAAAAAAAAAAEAAAAAAAAAAQAAAAAAAAABAAAAAAAAAAEAAAAAAAAAAQAAAAAAAAABAAAAAAAAAAEAAAAAAAAAAQAAAAAAAAABAAAAAAAAAAEAAAAAAAAAAQAAAAAAAAABAAAAAAAAAAEAAAAAAAAAAQAAAAAAAAABAAAAAAAAAAEAAAAAAAAAAQAAAAAAAAABAAAAAAAAAAEAAAAAAAAAAQAAAAAAAAABAAAAAAAAAAEAAAAAAAAAAQAAAAAAAAABAAAAAAAAAAEAAAAAAAAAAQAAAAAAAAABAAAAAAAAAAEAAAAAAAAAAQAAAAAAAAABAAAAAAAAAAEAAAAAAAAAAQAAAAAAAAABAAAAAAAAAAEAAAAAAAAAAQAAAAAAAAABAAAAAAAAAAEAAAAAAAAAAQAAAAAAAAABAAAAAAAAAAEAAAAAAAAAAQAAAAAAAAABAAAAAAAAAAEAAAAAAAAAAQAAAAAAAAABAAAAAAAAAAEAAAAAAAAAAQAAAAAAAAABAAAAAAAAAAEAAAAAAAAAAQAAAAAAAAABAAAAAAAAAAEAAAAAAAAAAQAAAAAAAAABAAAAAAAAAAEAAAAAAAAAAQAAAAAAAAABAAAAAAAAAAEAAAAAAAAAAQAAAAAAAAABAAAAAAAAAAEAAAAAAAAAAQAAAAAAAAABAAAAAAAAAAEAAAAAAAAAAQAAAAAAAAABAAAAAAAAAAEAAAAAAAAAAQAAAAAAAAABAAAAAAAAAAEAAAAAAAAAAQAAAAAAAAABAAAAAAAAAAEAAAAAAAAAAQAAAAAAAAABAAAAAAAAAAEAAAAAAAAAAQAAAAAAAAABAAAAAAAAAAEAAAAAAAAAAQAAAAAAAAABAAAAAAAAAAEAAAAAAAAAAQAAAAAAAAABAAAAAAAAAAEAAAAAAAAAAQAAAAAAAAABAAAAAAAAAAEAAAAAAAAAAQAAAAAAAAABAAAAAAAAAAEAAAAAAAAAAQAAAAAAAAABAAAAAAAAAAEAAAAAAAAAAQAAAAAAAAABAAAAAAAAAAEAAAAAAAAAAQAAAAAAAAABAAAAAAAAAAEAAAAAAAAAAQAAAAAAAAABAAAAAAAAAAEAAAAAAAAAAQAAAAAAAAABAAAAAAAAAAEAAAAAAAAAAQAAAAAAAAABAAAAAAAAAAEAAAAAAAAAAQAAAAAAAAABAAAAAAAAAAEAAAAAAAAAAQAAAAAAAAABAAAAAAAAAAEAAAAAAAAAAQAAAAAAAAABAAAAAAAAAAEAAAAAAAAAAQAAAAAAAAABAAAAAAAAAAEAAAAAAAAAAQAAAAAAAAABAAAAAAAAAAEAAAAAAAAAAQAAAAAAAAABAAAAAAAAAAEAAAAAAAAAAQAAAAAAAAABAAAAAAAAAAEAAAAAAAAAAQAAAAAAAAABAAAAAAAAAAEAAAAAAAAAAQAAAAAAAAABAAAAAAAAAAEAAAAAAAAAAQAAAAAAAAABAAAAAAAAAAEAAAAAAAAAAQAAAAAAAAABAAAAAAAAAAEAAAAAAAAAAQAAAAAAAAABAAAAAAAAAAEAAAAAAAAAAQAAAAAAAAABAAAAAAAAAAEAAAAAAAAAAQAAAAAAAAABAAAAAAAAAAEAAAAAAAAAAQAAAAAAAAABAAAAAAAAAAEAAAAAAAAAAQAAAAAAAAABAAAAAAAAAAEAAAAAAAAAAQAAAAAAAAABAAAAAAAAAAEAAAAAAAAAAQAAAAAAAAABAAAAAAAAAAEAAAAAAAAAAQAAAAAAAAABAAAAAAAAAAEA=",
          "dtype": "f8",
          "shape": "20, 20"
         }
        }
       ],
       "layout": {
        "height": 700,
        "scene": {
         "aspectmode": "auto",
         "aspectratio": {
          "x": 0.7444862454831692,
          "y": 1.4889724909663384,
          "z": 0.9021040806521816
         },
         "camera": {
          "center": {
           "x": 0,
           "y": 0,
           "z": 0
          },
          "eye": {
           "x": 1.3174592215530694,
           "y": 2.049062570338627,
           "z": 0.5056122846431262
          },
          "projection": {
           "type": "perspective"
          },
          "up": {
           "x": 0,
           "y": 0,
           "z": 1
          }
         },
         "xaxis": {
          "title": {
           "text": "x₁²"
          },
          "type": "linear"
         },
         "yaxis": {
          "title": {
           "text": "√2 x₁x₂"
          },
          "type": "linear"
         },
         "zaxis": {
          "title": {
           "text": "x₂²"
          },
          "type": "linear"
         }
        },
        "showlegend": true,
        "template": {
         "data": {
          "bar": [
           {
            "error_x": {
             "color": "#2a3f5f"
            },
            "error_y": {
             "color": "#2a3f5f"
            },
            "marker": {
             "line": {
              "color": "#E5ECF6",
              "width": 0.5
             },
             "pattern": {
              "fillmode": "overlay",
              "size": 10,
              "solidity": 0.2
             }
            },
            "type": "bar"
           }
          ],
          "barpolar": [
           {
            "marker": {
             "line": {
              "color": "#E5ECF6",
              "width": 0.5
             },
             "pattern": {
              "fillmode": "overlay",
              "size": 10,
              "solidity": 0.2
             }
            },
            "type": "barpolar"
           }
          ],
          "carpet": [
           {
            "aaxis": {
             "endlinecolor": "#2a3f5f",
             "gridcolor": "white",
             "linecolor": "white",
             "minorgridcolor": "white",
             "startlinecolor": "#2a3f5f"
            },
            "baxis": {
             "endlinecolor": "#2a3f5f",
             "gridcolor": "white",
             "linecolor": "white",
             "minorgridcolor": "white",
             "startlinecolor": "#2a3f5f"
            },
            "type": "carpet"
           }
          ],
          "choropleth": [
           {
            "colorbar": {
             "outlinewidth": 0,
             "ticks": ""
            },
            "type": "choropleth"
           }
          ],
          "contour": [
           {
            "colorbar": {
             "outlinewidth": 0,
             "ticks": ""
            },
            "colorscale": [
             [
              0,
              "#0d0887"
             ],
             [
              0.1111111111111111,
              "#46039f"
             ],
             [
              0.2222222222222222,
              "#7201a8"
             ],
             [
              0.3333333333333333,
              "#9c179e"
             ],
             [
              0.4444444444444444,
              "#bd3786"
             ],
             [
              0.5555555555555556,
              "#d8576b"
             ],
             [
              0.6666666666666666,
              "#ed7953"
             ],
             [
              0.7777777777777778,
              "#fb9f3a"
             ],
             [
              0.8888888888888888,
              "#fdca26"
             ],
             [
              1,
              "#f0f921"
             ]
            ],
            "type": "contour"
           }
          ],
          "contourcarpet": [
           {
            "colorbar": {
             "outlinewidth": 0,
             "ticks": ""
            },
            "type": "contourcarpet"
           }
          ],
          "heatmap": [
           {
            "colorbar": {
             "outlinewidth": 0,
             "ticks": ""
            },
            "colorscale": [
             [
              0,
              "#0d0887"
             ],
             [
              0.1111111111111111,
              "#46039f"
             ],
             [
              0.2222222222222222,
              "#7201a8"
             ],
             [
              0.3333333333333333,
              "#9c179e"
             ],
             [
              0.4444444444444444,
              "#bd3786"
             ],
             [
              0.5555555555555556,
              "#d8576b"
             ],
             [
              0.6666666666666666,
              "#ed7953"
             ],
             [
              0.7777777777777778,
              "#fb9f3a"
             ],
             [
              0.8888888888888888,
              "#fdca26"
             ],
             [
              1,
              "#f0f921"
             ]
            ],
            "type": "heatmap"
           }
          ],
          "histogram": [
           {
            "marker": {
             "pattern": {
              "fillmode": "overlay",
              "size": 10,
              "solidity": 0.2
             }
            },
            "type": "histogram"
           }
          ],
          "histogram2d": [
           {
            "colorbar": {
             "outlinewidth": 0,
             "ticks": ""
            },
            "colorscale": [
             [
              0,
              "#0d0887"
             ],
             [
              0.1111111111111111,
              "#46039f"
             ],
             [
              0.2222222222222222,
              "#7201a8"
             ],
             [
              0.3333333333333333,
              "#9c179e"
             ],
             [
              0.4444444444444444,
              "#bd3786"
             ],
             [
              0.5555555555555556,
              "#d8576b"
             ],
             [
              0.6666666666666666,
              "#ed7953"
             ],
             [
              0.7777777777777778,
              "#fb9f3a"
             ],
             [
              0.8888888888888888,
              "#fdca26"
             ],
             [
              1,
              "#f0f921"
             ]
            ],
            "type": "histogram2d"
           }
          ],
          "histogram2dcontour": [
           {
            "colorbar": {
             "outlinewidth": 0,
             "ticks": ""
            },
            "colorscale": [
             [
              0,
              "#0d0887"
             ],
             [
              0.1111111111111111,
              "#46039f"
             ],
             [
              0.2222222222222222,
              "#7201a8"
             ],
             [
              0.3333333333333333,
              "#9c179e"
             ],
             [
              0.4444444444444444,
              "#bd3786"
             ],
             [
              0.5555555555555556,
              "#d8576b"
             ],
             [
              0.6666666666666666,
              "#ed7953"
             ],
             [
              0.7777777777777778,
              "#fb9f3a"
             ],
             [
              0.8888888888888888,
              "#fdca26"
             ],
             [
              1,
              "#f0f921"
             ]
            ],
            "type": "histogram2dcontour"
           }
          ],
          "mesh3d": [
           {
            "colorbar": {
             "outlinewidth": 0,
             "ticks": ""
            },
            "type": "mesh3d"
           }
          ],
          "parcoords": [
           {
            "line": {
             "colorbar": {
              "outlinewidth": 0,
              "ticks": ""
             }
            },
            "type": "parcoords"
           }
          ],
          "pie": [
           {
            "automargin": true,
            "type": "pie"
           }
          ],
          "scatter": [
           {
            "fillpattern": {
             "fillmode": "overlay",
             "size": 10,
             "solidity": 0.2
            },
            "type": "scatter"
           }
          ],
          "scatter3d": [
           {
            "line": {
             "colorbar": {
              "outlinewidth": 0,
              "ticks": ""
             }
            },
            "marker": {
             "colorbar": {
              "outlinewidth": 0,
              "ticks": ""
             }
            },
            "type": "scatter3d"
           }
          ],
          "scattercarpet": [
           {
            "marker": {
             "colorbar": {
              "outlinewidth": 0,
              "ticks": ""
             }
            },
            "type": "scattercarpet"
           }
          ],
          "scattergeo": [
           {
            "marker": {
             "colorbar": {
              "outlinewidth": 0,
              "ticks": ""
             }
            },
            "type": "scattergeo"
           }
          ],
          "scattergl": [
           {
            "marker": {
             "colorbar": {
              "outlinewidth": 0,
              "ticks": ""
             }
            },
            "type": "scattergl"
           }
          ],
          "scattermap": [
           {
            "marker": {
             "colorbar": {
              "outlinewidth": 0,
              "ticks": ""
             }
            },
            "type": "scattermap"
           }
          ],
          "scattermapbox": [
           {
            "marker": {
             "colorbar": {
              "outlinewidth": 0,
              "ticks": ""
             }
            },
            "type": "scattermapbox"
           }
          ],
          "scatterpolar": [
           {
            "marker": {
             "colorbar": {
              "outlinewidth": 0,
              "ticks": ""
             }
            },
            "type": "scatterpolar"
           }
          ],
          "scatterpolargl": [
           {
            "marker": {
             "colorbar": {
              "outlinewidth": 0,
              "ticks": ""
             }
            },
            "type": "scatterpolargl"
           }
          ],
          "scatterternary": [
           {
            "marker": {
             "colorbar": {
              "outlinewidth": 0,
              "ticks": ""
             }
            },
            "type": "scatterternary"
           }
          ],
          "surface": [
           {
            "colorbar": {
             "outlinewidth": 0,
             "ticks": ""
            },
            "colorscale": [
             [
              0,
              "#0d0887"
             ],
             [
              0.1111111111111111,
              "#46039f"
             ],
             [
              0.2222222222222222,
              "#7201a8"
             ],
             [
              0.3333333333333333,
              "#9c179e"
             ],
             [
              0.4444444444444444,
              "#bd3786"
             ],
             [
              0.5555555555555556,
              "#d8576b"
             ],
             [
              0.6666666666666666,
              "#ed7953"
             ],
             [
              0.7777777777777778,
              "#fb9f3a"
             ],
             [
              0.8888888888888888,
              "#fdca26"
             ],
             [
              1,
              "#f0f921"
             ]
            ],
            "type": "surface"
           }
          ],
          "table": [
           {
            "cells": {
             "fill": {
              "color": "#EBF0F8"
             },
             "line": {
              "color": "white"
             }
            },
            "header": {
             "fill": {
              "color": "#C8D4E3"
             },
             "line": {
              "color": "white"
             }
            },
            "type": "table"
           }
          ]
         },
         "layout": {
          "annotationdefaults": {
           "arrowcolor": "#2a3f5f",
           "arrowhead": 0,
           "arrowwidth": 1
          },
          "autotypenumbers": "strict",
          "coloraxis": {
           "colorbar": {
            "outlinewidth": 0,
            "ticks": ""
           }
          },
          "colorscale": {
           "diverging": [
            [
             0,
             "#8e0152"
            ],
            [
             0.1,
             "#c51b7d"
            ],
            [
             0.2,
             "#de77ae"
            ],
            [
             0.3,
             "#f1b6da"
            ],
            [
             0.4,
             "#fde0ef"
            ],
            [
             0.5,
             "#f7f7f7"
            ],
            [
             0.6,
             "#e6f5d0"
            ],
            [
             0.7,
             "#b8e186"
            ],
            [
             0.8,
             "#7fbc41"
            ],
            [
             0.9,
             "#4d9221"
            ],
            [
             1,
             "#276419"
            ]
           ],
           "sequential": [
            [
             0,
             "#0d0887"
            ],
            [
             0.1111111111111111,
             "#46039f"
            ],
            [
             0.2222222222222222,
             "#7201a8"
            ],
            [
             0.3333333333333333,
             "#9c179e"
            ],
            [
             0.4444444444444444,
             "#bd3786"
            ],
            [
             0.5555555555555556,
             "#d8576b"
            ],
            [
             0.6666666666666666,
             "#ed7953"
            ],
            [
             0.7777777777777778,
             "#fb9f3a"
            ],
            [
             0.8888888888888888,
             "#fdca26"
            ],
            [
             1,
             "#f0f921"
            ]
           ],
           "sequentialminus": [
            [
             0,
             "#0d0887"
            ],
            [
             0.1111111111111111,
             "#46039f"
            ],
            [
             0.2222222222222222,
             "#7201a8"
            ],
            [
             0.3333333333333333,
             "#9c179e"
            ],
            [
             0.4444444444444444,
             "#bd3786"
            ],
            [
             0.5555555555555556,
             "#d8576b"
            ],
            [
             0.6666666666666666,
             "#ed7953"
            ],
            [
             0.7777777777777778,
             "#fb9f3a"
            ],
            [
             0.8888888888888888,
             "#fdca26"
            ],
            [
             1,
             "#f0f921"
            ]
           ]
          },
          "colorway": [
           "#636efa",
           "#EF553B",
           "#00cc96",
           "#ab63fa",
           "#FFA15A",
           "#19d3f3",
           "#FF6692",
           "#B6E880",
           "#FF97FF",
           "#FECB52"
          ],
          "font": {
           "color": "#2a3f5f"
          },
          "geo": {
           "bgcolor": "white",
           "lakecolor": "white",
           "landcolor": "#E5ECF6",
           "showlakes": true,
           "showland": true,
           "subunitcolor": "white"
          },
          "hoverlabel": {
           "align": "left"
          },
          "hovermode": "closest",
          "mapbox": {
           "style": "light"
          },
          "paper_bgcolor": "white",
          "plot_bgcolor": "#E5ECF6",
          "polar": {
           "angularaxis": {
            "gridcolor": "white",
            "linecolor": "white",
            "ticks": ""
           },
           "bgcolor": "#E5ECF6",
           "radialaxis": {
            "gridcolor": "white",
            "linecolor": "white",
            "ticks": ""
           }
          },
          "scene": {
           "xaxis": {
            "backgroundcolor": "#E5ECF6",
            "gridcolor": "white",
            "gridwidth": 2,
            "linecolor": "white",
            "showbackground": true,
            "ticks": "",
            "zerolinecolor": "white"
           },
           "yaxis": {
            "backgroundcolor": "#E5ECF6",
            "gridcolor": "white",
            "gridwidth": 2,
            "linecolor": "white",
            "showbackground": true,
            "ticks": "",
            "zerolinecolor": "white"
           },
           "zaxis": {
            "backgroundcolor": "#E5ECF6",
            "gridcolor": "white",
            "gridwidth": 2,
            "linecolor": "white",
            "showbackground": true,
            "ticks": "",
            "zerolinecolor": "white"
           }
          },
          "shapedefaults": {
           "line": {
            "color": "#2a3f5f"
           }
          },
          "ternary": {
           "aaxis": {
            "gridcolor": "white",
            "linecolor": "white",
            "ticks": ""
           },
           "baxis": {
            "gridcolor": "white",
            "linecolor": "white",
            "ticks": ""
           },
           "bgcolor": "#E5ECF6",
           "caxis": {
            "gridcolor": "white",
            "linecolor": "white",
            "ticks": ""
           }
          },
          "title": {
           "x": 0.05
          },
          "xaxis": {
           "automargin": true,
           "gridcolor": "white",
           "linecolor": "white",
           "ticks": "",
           "title": {
            "standoff": 15
           },
           "zerolinecolor": "white",
           "zerolinewidth": 2
          },
          "yaxis": {
           "automargin": true,
           "gridcolor": "white",
           "linecolor": "white",
           "ticks": "",
           "title": {
            "standoff": 15
           },
           "zerolinecolor": "white",
           "zerolinewidth": 2
          }
         }
        },
        "title": {
         "text": "Data in Transformed Feature Space (Drag to Rotate)"
        },
        "width": 900
       }
      },
      "image/png": "[encoded data removed]"
     },
     "metadata": {},
     "output_type": "display_data"
    }
   ],
   "source": [
    "### ANSWER\n",
    "import plotly.graph_objects as go\n",
    "\"\"\"\n",
    "# Transform the data points using the custom kernel\n",
    "transformed_data = polynomial_feature_map(data)\n",
    "\n",
    "# Separate the classes\n",
    "positive_class = transformed_data[classes == 1]\n",
    "negative_class = transformed_data[classes == -1]\n",
    "\"\"\"\n",
    "\n",
    "\n",
    "positive_class = polynomial_feature_map(data_pos)\n",
    "negative_class = polynomial_feature_map(data_neg)\n",
    "\n",
    "\n",
    "\n",
    "# Create interactive 3D scatter plot\n",
    "fig = go.Figure()\n",
    "\n",
    "# Add positive class\n",
    "fig.add_trace(go.Scatter3d(\n",
    "    x=positive_class[:, 0],\n",
    "    y=positive_class[:, 1],\n",
    "    z=positive_class[:, 2],\n",
    "    mode='markers',\n",
    "    name='Class +',\n",
    "    marker=dict(\n",
    "        size=10,\n",
    "        color='blue',\n",
    "        symbol='circle',\n",
    "        line=dict(color='black', width=2)\n",
    "    )\n",
    "))\n",
    "\n",
    "# Add negative class\n",
    "fig.add_trace(go.Scatter3d(\n",
    "    x=negative_class[:, 0],\n",
    "    y=negative_class[:, 1],\n",
    "    z=negative_class[:, 2],\n",
    "    mode='markers',\n",
    "    name='Class -',\n",
    "    marker=dict(\n",
    "        size=10,\n",
    "        color='red',\n",
    "        symbol='circle',\n",
    "        line=dict(color='black', width=2)\n",
    "    )\n",
    "))\n",
    "\n",
    "# Update layout\n",
    "fig.update_layout(\n",
    "    title='Data in Transformed Feature Space (Drag to Rotate)',\n",
    "    scene=dict(\n",
    "        xaxis_title='x₁²',\n",
    "        yaxis_title='√2 x₁x₂',\n",
    "        zaxis_title='x₂²',\n",
    "        camera=dict(\n",
    "            eye=dict(x=1.5, y=1.5, z=1.3)\n",
    "        )\n",
    "    ),\n",
    "    width=900,\n",
    "    height=700,\n",
    "    showlegend=True\n",
    ")\n",
    "\n",
    "# Create mesh for separating plane\n",
    "x_range = np.linspace(0, 4, 20)\n",
    "y_range = np.linspace(-2, 6, 20)\n",
    "xx, yy = np.meshgrid(x_range, y_range)\n",
    "zz = np.ones_like(xx) * 2  # Horizontal plane at z=2\n",
    "\n",
    "# Add plane\n",
    "fig.add_trace(go.Surface(\n",
    "    x=xx,\n",
    "    y=yy,\n",
    "    z=zz,\n",
    "    opacity=0.3,\n",
    "    colorscale='Greens',\n",
    "    showscale=False,\n",
    "    name='Separating Plane'\n",
    "))\n",
    "\n",
    "fig.show()\n"
   ]
  },
  {
   "cell_type": "markdown",
   "metadata": {},
   "source": [
    "**🗒️ Task:** (4 points) Now write code to calculate the dot product between two samples of your dataset, i.e. $k(\\mathbf x_1, \\mathbf x_2) = \\langle \\Phi(x_1) , \\Phi(\\mathbf x_2) \\rangle$ and verify that it satisfies Mercer's conditions (page 192 of your book)\n",
    "\n",
    "A Mercel Kernel is any function $k: X \\times X \\rightarrow \\mathbb R$ with these properties\n",
    "\n",
    "- Symmetry: $k(\\mathbf x_1, \\mathbf x_2) = k(\\mathbf x_2, \\mathbf x_1)$ for any $\\mathbf x_1, \\mathbf x_2 \\in X$\n",
    "- Positive definite: the kernel matrix $K$ is positive semi-definite:\n",
    "  - $k(\\mathbf x_1, \\mathbf x_2) \\ge 0$ or\n",
    "  - The eigenvalues of the $K$ matrix are all non-negative\n",
    "  \n",
    "The kernl matrix for $N$ points of ($D$ features) $x_1, ..., x_D \\in X$ (with $D = N$) is defined as:\n",
    "\n",
    "$$ K = \\begin{pmatrix} k(\\mathbf x_1, \\mathbf x_1) & ... & k(\\mathbf x_1, \\mathbf x_N) \\\\\n",
    "\\vdots \\ddots \\vdots \\\\\n",
    "k(\\mathbf x_N, \\mathbf x_1) & ... & k(\\mathbf x_N, \\mathbf x_N)\n",
    "\\end{pmatrix} $$\n"
   ]
  },
  {
   "cell_type": "code",
   "execution_count": 57,
   "metadata": {
    "tags": [
     "code answer"
    ]
   },
   "outputs": [
    {
     "name": "stdout",
     "output_type": "stream",
     "text": [
      "[ True  True  True]\n",
      "[[ True  True  True]\n",
      " [ True  True  True]\n",
      " [ True  True  True]]\n"
     ]
    }
   ],
   "source": [
    "### ANSWER\n",
    "import numpy as np\n",
    "\n",
    "# funtion that calculates the dot product\n",
    "def dot_product(x1,x2):\n",
    "    return np.matmul(x1,x2)\n",
    "N = positive_class.shape[0]\n",
    "\n",
    "\n",
    "\n",
    "\n",
    "# calculates the dot product for the matrix\n",
    "K= np.zeros([N,N])\n",
    "for i,x in enumerate(positive_class):\n",
    "    for j,y in enumerate(positive_class):\n",
    "        K[i,j] = dot_product(x,y)\n",
    "\n",
    "#calculates eigenvalues and displays satisfaction of Mercer's rule\n",
    "print(np.linalg.eigvalsh(K)>=0)\n",
    "print(K>=0)\n"
   ]
  },
  {
   "cell_type": "markdown",
   "metadata": {},
   "source": [
    "**🗒️ Task:** (4 points) But wait! The whole point of the kernel trick is to not transform the data and then do the dot product! Here is a feature map that is infinitely dimensional. Consider a 1D input $x$\n",
    "\n",
    "$$ \\Phi(x) = \\exp(- x^2/2) \\left [ 1, x, \\frac{x^2}{\\sqrt{2!}}, \\frac{x^3}{\\sqrt{3!}}, \\frac{x^4}{\\sqrt{4!}}, ... \\right] $$\n",
    "\n",
    "Show mathematically that the dot product $\\langle \\Phi(x_1), \\Phi(x_2) \\rangle$ using the above feature map is equivalent to the kernel function\n",
    "\n",
    "$$ K(x_1,x_2) = \\exp \\left( - \\frac{(x_1 - x_2)^2}{2} \\right ) $$\n",
    "\n",
    "**Note:** You must use LaTeX to write out the math!"
   ]
  },
  {
   "cell_type": "markdown",
   "metadata": {
    "tags": [
     "text answer"
    ]
   },
   "source": [
    "✏️ **Answer:**\n",
    "\n",
    "Will need to use the taylor series \n",
    "\n",
    "\n",
    "$$\\begin{align*} \\langle \\Phi(x_1), \\Phi(x_2) \\rangle &= \\left\\langle \\exp(- \\frac{x_1^2}{2}) \\left[ 1, x_1, \\frac{x_1^2}{\\sqrt{2!}}, \\dots \\right], \\exp(- \\frac{x_2^2}{2}) \\left[ 1, x_2, \\frac{x_2^2}{\\sqrt{2!}}, \\dots \\right] \\right\\rangle \\\\ \\\\ &= \\exp(- \\frac{x_1^2}{2}) \\exp(- \\frac{x_2^2}{2}) \\left\\langle \\left[ 1, x_1, \\frac{x_1^2}{\\sqrt{2!}}, \\dots \\right], \\left[ 1, x_2, \\frac{x_2^2}{\\sqrt{2!}}, \\dots \\right] \\right\\rangle \\\\ \\\\ &= \\exp\\left(- \\frac{x_1^2 + x_2^2}{2}\\right) \\left( (1 \\cdot 1) + (x_1 \\cdot x_2) + \\left(\\frac{x_1^2}{\\sqrt{2!}} \\cdot \\frac{x_2^2}{\\sqrt{2!}}\\right) + \\left(\\frac{x_1^3}{\\sqrt{3!}} \\cdot \\frac{x_2^3}{\\sqrt{3!}}\\right) + \\dots \\right) \\\\ \\\\ &= \\exp\\left(- \\frac{x_1^2 + x_2^2}{2}\\right) \\left( 1 + x_1x_2 + \\frac{(x_1x_2)^2}{2!} + \\frac{(x_1x_2)^3}{3!} + \\dots \\right) \\\\ \\\\ &= \\exp\\left(- \\frac{x_1^2 + x_2^2}{2}\\right) \\sum_{n=0}^{\\infty} \\frac{(x_1x_2)^n}{n!} \\\\ \\end{align*} $$This is the Taylor series for $\\exp(x_1x_2)$:$$ \\begin{align*} \\langle \\Phi(x_1), \\Phi(x_2) \\rangle &= \\exp\\left(- \\frac{x_1^2 + x_2^2}{2}\\right) \\exp(x_1x_2) \\\\ \\\\ &= \\exp\\left(- \\frac{x_1^2 + x_2^2}{2} + x_1x_2\\right) \\\\ \\\\ &= \\exp\\left(- \\frac{x_1^2 - 2x_1x_2 + x_2^2}{2}\\right) \\\\ \\\\ &= \\exp\\left(- \\frac{(x_1 - x_2)^2}{2}\\right) \\end{align*}$$\n",
    "\n",
    "\n",
    "\n"
   ]
  },
  {
   "cell_type": "markdown",
   "metadata": {},
   "source": [
    "---\n",
    "## Problem #3: Chapter 5 (20 points)\n",
    "\n",
    "Read chapter 5 of the book and answer the following questions\n",
    "For this problem **DO NOT USE** AI of any kind.\n",
    "Be as detailed as you can. Justify all of your answers. \n",
    "\n",
    "1. What is the fundamental idea behind support vector machines?\n",
    "2. What is a support vector? Why is it important to scale the inputs when using SVMs? \n",
    "3. Can an SVM classifier output a confidence score when it classifies an instance? What about a probability? \n",
    "4. How can you choose between `LinearSVC`, `SVC`, and `SGDClassifier`? \n",
    "5. Say you’ve trained an SVM classifier with an RBF kernel, but it seems to underfit the training set. Should you increase or decrease γ (gamma)? What about C? \n",
    "6. What does it mean for a model to be ϵ-insensitive? \n",
    "7. What is the point of using the kernel trick?\n",
    "\n"
   ]
  },
  {
   "cell_type": "markdown",
   "metadata": {
    "tags": [
     "text answer"
    ]
   },
   "source": [
    "✏️ **Answer:**\n",
    "\n",
    "1. The fundamental idea behind support vector machines is to create a model that forms a decision bondary with the largest possible margins between sets of data points, to increase the likelihood of sucessfully identifying unseen points with some spread or noise.\n",
    "2. A support vector is a vector that has the most weight when creating the decision bondary, while points that can be easily separated are less relevant.\n",
    "3. An SVM classifier outputs a distance from the decision boundary, which is the same thing as a confidence score or a probability, but scaled differently.\n",
    "4. LinearSVC can only create a linear decision boundary. SVC is more veratile with decision boundary shape, but takes more computational power. SGDClassifier is best for very large datasets, but is inefficient and unlikely to reach the absolute minimum.\n",
    "5. Reducing C increases margin violations, while increasing gamma decreases the range of each points' influence. If you are underfitting the training set, increasing C and gamma will help.\n",
    "6. When epsilon decreases, it increases the number of support vectors (tightening the decision boundary). This means that when you add new data that is within the bondary, it will not change the model. \n",
    "7. The kernal trick is a mathematical phenomena that allows for the calculation of higher dimensional relationships while reducing computational load, allowing for the creation of a decision hyperplane through this multidimensional space. "
   ]
  },
  {
   "cell_type": "markdown",
   "metadata": {},
   "source": [
    "---\n",
    "## Problem #4: Practice (20 points)\n",
    "\n",
    "Let's practice some of the ideas we have learned in this course so far. I am going to leave this a bit opened ended because I want you to be able to think about the steps and make decisions on your own. This will aid you in designing your project.\n",
    "\n",
    "We will practice classification. Solve the classification problem with the penguins dataset. (If you are tired of this dataset, pick one that is similar: I am only suggesting this again to save you time in the IDA and EDA steps, and because it is easy to \"read in\".) Feel free to **grab any \"penguins code\" you have already written** for this course to use as your starting point. (Just be sure that it is _your_ code and not someone else's. )\n",
    "\n",
    "That's it. See what you can do. \n",
    "\n",
    "If you need any hints, they are at the bottom of this notebook. See how far you can get without peeking! \n"
   ]
  },
  {
   "cell_type": "markdown",
   "metadata": {},
   "source": [
    "\n",
    "### Hints \n",
    "\n",
    "Initial Data Analysis & Exploration (4 points)\n",
    "\n",
    "* Data summary and distribution analysis\n",
    "* Visualization of key relationships between features\n",
    "* Handling of missing values\n",
    "* Feature correlation analysis\n",
    "\n",
    "\n",
    "Data Preprocessing (3 points)\n",
    "\n",
    "* Feature scaling/normalization justification and implementation\n",
    "* Encoding of categorical variables\n",
    "* Feature selection or engineering (if applicable)\n",
    "* Proper train-test split with justification of split ratio\n",
    "\n",
    "\n",
    "Model Development (5 points)\n",
    "\n",
    "* Implementation of at least two different classification algorithms\n",
    "* Hyperparameter tuning for at least one model\n",
    "* Clear explanation of model choice and parameter decisions\n",
    "* Model validation strategy (e.g., cross-validation)\n",
    "\n",
    "\n",
    "Results & Evaluation (3 points)\n",
    "\n",
    "* Appropriate evaluation metrics (accuracy, precision, recall, F1-score)\n",
    "* Comparison of model performances\n",
    "* Discussion of results and potential improvements\n",
    "\n",
    "\n",
    "\n",
    "Additional Elements (5 points, choose at least 2):\n",
    "\n",
    "* Feature importance analysis\n",
    "* Learning curve analysis\n",
    "* Confusion matrix visualization and interpretation\n",
    "* ROC curve analysis\n",
    "* Investigation of model bias/variance trade-off\n",
    "* Model deployment considerations\n",
    "* Error analysis of misclassified instances"
   ]
  },
  {
   "cell_type": "code",
   "execution_count": 74,
   "metadata": {},
   "outputs": [],
   "source": [
    "### ANSWER\n",
    "import seaborn as sns\n",
    "import pandas as pd\n",
    "import numpy as np\n",
    "from sklearn.model_selection import train_test_split\n",
    "from sklearn.preprocessing import StandardScaler\n",
    "from sklearn.metrics import classification_report, confusion_matrix\n",
    "import matplotlib.pyplot as plt\n",
    "\n",
    "penguins = sns.load_dataset(\"penguins\")"
   ]
  },
  {
   "cell_type": "code",
   "execution_count": 81,
   "metadata": {},
   "outputs": [
    {
     "name": "stdout",
     "output_type": "stream",
     "text": [
      "\n",
      "Dataset Info:\n",
      "<class 'pandas.core.frame.DataFrame'>\n",
      "RangeIndex: 344 entries, 0 to 343\n",
      "Data columns (total 7 columns):\n",
      " #   Column             Non-Null Count  Dtype  \n",
      "---  ------             --------------  -----  \n",
      " 0   species            344 non-null    object \n",
      " 1   island             344 non-null    object \n",
      " 2   bill_length_mm     342 non-null    float64\n",
      " 3   bill_depth_mm      342 non-null    float64\n",
      " 4   flipper_length_mm  342 non-null    float64\n",
      " 5   body_mass_g        342 non-null    float64\n",
      " 6   sex                333 non-null    object \n",
      "dtypes: float64(4), object(3)\n",
      "memory usage: 18.9+ KB\n"
     ]
    },
    {
     "data": {
      "text/plain": [
       "None"
      ]
     },
     "metadata": {},
     "output_type": "display_data"
    },
    {
     "name": "stdout",
     "output_type": "stream",
     "text": [
      "\n",
      "Missing Values:\n"
     ]
    },
    {
     "data": {
      "text/plain": [
       "species               0\n",
       "island                0\n",
       "bill_length_mm        2\n",
       "bill_depth_mm         2\n",
       "flipper_length_mm     2\n",
       "body_mass_g           2\n",
       "sex                  11\n",
       "dtype: int64"
      ]
     },
     "metadata": {},
     "output_type": "display_data"
    },
    {
     "name": "stdout",
     "output_type": "stream",
     "text": [
      "\n",
      "Class Distribution:\n"
     ]
    },
    {
     "data": {
      "text/plain": [
       "species\n",
       "Adelie       152\n",
       "Gentoo       124\n",
       "Chinstrap     68\n",
       "Name: count, dtype: int64"
      ]
     },
     "metadata": {},
     "output_type": "display_data"
    },
    {
     "data": {
      "image/png": "[encoded data removed]",
      "text/plain": [
       "<Figure size 1500x1200 with 4 Axes>"
      ]
     },
     "metadata": {},
     "output_type": "display_data"
    },
    {
     "data": {
      "image/png": "[encoded data removed]",
      "text/plain": [
       "<Figure size 800x600 with 2 Axes>"
      ]
     },
     "metadata": {},
     "output_type": "display_data"
    }
   ],
   "source": [
    "### ANSWER\n",
    "# Initial Data Analysis (IDA)\n",
    "\n",
    "print(\"\\nDataset Info:\")\n",
    "display(penguins.info())\n",
    "\n",
    "print(\"\\nMissing Values:\")\n",
    "display(penguins.isnull().sum())\n",
    "\n",
    "print(\"\\nClass Distribution:\")\n",
    "display(penguins['species'].value_counts())\n",
    "\n",
    "# Exploratory Data Analysis (EDA)\n",
    "# Define features we'll use for classification\n",
    "features = ['bill_length_mm', 'bill_depth_mm', 'flipper_length_mm', 'body_mass_g']\n",
    "target = 'species'\n",
    "\n",
    "# Set up the plotting style\n",
    "sns.set_style(\"whitegrid\")\n",
    "sns.set_palette(\"husl\")\n",
    "\n",
    "# Create a figure for our exploratory plots\n",
    "fig, axes = plt.subplots(2, 2, figsize=(15, 12))\n",
    "fig.suptitle('Penguin Features by Species', fontsize=16, y=1.02)\n",
    "\n",
    "# Plot 1: Bill dimensions by species\n",
    "sns.scatterplot(\n",
    "    data=penguins,\n",
    "    x='bill_length_mm',\n",
    "    y='bill_depth_mm',\n",
    "    hue='species',\n",
    "    style='species',\n",
    "    ax=axes[0,0]\n",
    ")\n",
    "axes[0,0].set_title('Bill Dimensions')\n",
    "\n",
    "# Plot 2: Flipper length vs Body mass\n",
    "sns.scatterplot(\n",
    "    data=penguins,\n",
    "    x='flipper_length_mm',\n",
    "    y='body_mass_g',\n",
    "    hue='species',\n",
    "    style='species',\n",
    "    ax=axes[0,1]\n",
    ")\n",
    "axes[0,1].set_title('Flipper Length vs Body Mass')\n",
    "\n",
    "# Plot 3: Feature distributions\n",
    "sns.boxplot(\n",
    "    data=penguins,\n",
    "    x='species',\n",
    "    y='bill_length_mm',\n",
    "    ax=axes[1,0]\n",
    ")\n",
    "axes[1,0].set_title('Bill Length Distribution')\n",
    "plt.setp(axes[1,0].get_xticklabels(), rotation=45)\n",
    "\n",
    "# Plot 4: Another important feature distribution\n",
    "sns.boxplot(\n",
    "    data=penguins,\n",
    "    x='species',\n",
    "    y='flipper_length_mm',\n",
    "    ax=axes[1,1]\n",
    ")\n",
    "axes[1,1].set_title('Flipper Length Distribution')\n",
    "plt.setp(axes[1,1].get_xticklabels(), rotation=45)\n",
    "\n",
    "plt.tight_layout()\n",
    "\n",
    "#Correlation matrix\n",
    "correlation_matrix = penguins[features].corr()\n",
    "plt.figure(figsize=(8, 6))\n",
    "sns.heatmap(correlation_matrix, annot=True, cmap='coolwarm', center=0)\n",
    "plt.title('Feature Correlations')\n",
    "plt.tight_layout()\n",
    "\n",
    "\n",
    "# features\n",
    "features = ['bill_length_mm', 'bill_depth_mm', 'flipper_length_mm', 'body_mass_g']\n",
    "target = 'species'\n",
    "\n",
    "# Split the data\n",
    "X_train, X_test, y_train, y_test = train_test_split(\n",
    "    penguins[features], \n",
    "    penguins[target],\n",
    "    test_size=0.2, \n",
    "    random_state=42\n",
    ")\n"
   ]
  },
  {
   "cell_type": "code",
   "execution_count": 100,
   "metadata": {},
   "outputs": [
    {
     "data": {
      "text/plain": [
       "<bound method DataFrame.info of      bill_length_mm  bill_depth_mm  flipper_length_mm  body_mass_g  \\\n",
       "0          0.320000       0.071429           0.711864     0.541667   \n",
       "1          0.189091       0.559524           0.322034     0.180556   \n",
       "2          0.650909       0.333333           0.881356     0.736111   \n",
       "3          0.138182       0.726190           0.288136     0.305556   \n",
       "4          0.305455       0.690476           0.135593     0.347222   \n",
       "..              ...            ...                ...          ...   \n",
       "261        0.683636       0.714286           0.406780     0.236111   \n",
       "262        0.185455       0.750000           0.203390     0.333333   \n",
       "263        0.276364       0.547619           0.355932     0.138889   \n",
       "264        0.487273       0.226190           0.813559     0.638889   \n",
       "265        0.218182       0.464286           0.152542     0.131944   \n",
       "\n",
       "     sex_Female  sex_Male  \n",
       "0           1.0       0.0  \n",
       "1           1.0       0.0  \n",
       "2           0.0       1.0  \n",
       "3           1.0       0.0  \n",
       "4           0.0       1.0  \n",
       "..          ...       ...  \n",
       "261         0.0       1.0  \n",
       "262         0.0       1.0  \n",
       "263         1.0       0.0  \n",
       "264         0.0       1.0  \n",
       "265         1.0       0.0  \n",
       "\n",
       "[266 rows x 6 columns]>"
      ]
     },
     "execution_count": 100,
     "metadata": {},
     "output_type": "execute_result"
    }
   ],
   "source": [
    "### ANSWER\n",
    "# Preprocessing\n",
    "from sklearn.preprocessing import MinMaxScaler\n",
    "# Drop missing values\n",
    "penguins = sns.load_dataset(\"penguins\")\n",
    "\n",
    "# features\n",
    "features = ['bill_length_mm', 'bill_depth_mm', 'flipper_length_mm', 'body_mass_g']\n",
    "target = 'species'\n",
    "\n",
    "# Split the data\n",
    "X_train, X_test, y_train, y_test = train_test_split(\n",
    "    penguins[features], \n",
    "    penguins[target],\n",
    "    test_size=0.2, \n",
    "    random_state=42\n",
    ")\n",
    "\n",
    "\n",
    "penguins.dropna( inplace=True)  # option 1\n",
    "\n",
    "# Create dummy variables for 'sex'\n",
    "sex_dummies = pd.get_dummies(penguins['sex'], prefix='sex')\n",
    "penguins = pd.concat([penguins, sex_dummies], axis=1)\n",
    "\n",
    "# Add sex features to our feature list\n",
    "features_with_sex = features + [col for col in sex_dummies.columns]\n",
    "\n",
    "# Scale the features\n",
    "scaler = MinMaxScaler()\n",
    "X = penguins[features_with_sex]\n",
    "y = penguins[target]\n",
    "\n",
    "# We'll use these scaled features and encoded target\n",
    "features = ['bill_length_mm', 'bill_depth_mm', 'flipper_length_mm', 'body_mass_g']\n",
    "target = 'species'\n",
    "\n",
    "# Split the data\n",
    "X_train, X_test, y_train, y_test = train_test_split(\n",
    "    X, y, test_size=0.2, random_state=42\n",
    ")\n",
    "\n",
    "# Then fit the scaler only on training data and transform both sets\n",
    "X_train_scaled = scaler.fit_transform(X_train)\n",
    "X_test_scaled = scaler.transform(X_test)\n",
    "\n",
    "# Convert to DataFrames to keep feature names\n",
    "X_train_scaled = pd.DataFrame(X_train_scaled, columns=X_train.columns)\n",
    "X_test_scaled = pd.DataFrame(X_test_scaled, columns=X_test.columns)\n",
    "\n",
    "X_train_scaled.info\n",
    "#print(X_train_scaled.head(10))\n"
   ]
  },
  {
   "cell_type": "code",
   "execution_count": 121,
   "metadata": {},
   "outputs": [
    {
     "name": "stdout",
     "output_type": "stream",
     "text": [
      "\n",
      "Probability distributions for first 10 test samples:\n",
      "     Adelie  Chinstrap    Gentoo\n",
      "0  0.787727   0.185225  0.027048\n",
      "1  0.011635   0.038051  0.950314\n",
      "2  0.821521   0.146305  0.032175\n",
      "3  0.099330   0.757090  0.143580\n",
      "4  0.860565   0.101690  0.037746\n",
      "5  0.027358   0.040108  0.932534\n",
      "6  0.010262   0.026024  0.963714\n",
      "7  0.314548   0.635688  0.049764\n",
      "8  0.335092   0.598864  0.066044\n",
      "9  0.200820   0.717430  0.081749\n",
      "\n",
      "Classification Report:\n",
      "              precision    recall  f1-score   support\n",
      "\n",
      "      Adelie       0.97      1.00      0.98        31\n",
      "   Chinstrap       1.00      0.92      0.96        13\n",
      "      Gentoo       1.00      1.00      1.00        23\n",
      "\n",
      "    accuracy                           0.99        67\n",
      "   macro avg       0.99      0.97      0.98        67\n",
      "weighted avg       0.99      0.99      0.98        67\n",
      "\n",
      "['Adelie' 'Chinstrap' 'Gentoo']\n"
     ]
    }
   ],
   "source": [
    "### ANSWER\n",
    "# model 1 formation: logistic regression\n",
    "from sklearn.linear_model import LogisticRegression\n",
    "\n",
    "# Initialize the model with multinomial setting\n",
    "clf = LogisticRegression(\n",
    "    solver='lbfgs',           \n",
    "    max_iter=1000\n",
    ")\n",
    "\n",
    "# Fit the model\n",
    "clf.fit(X_train_scaled, y_train)\n",
    "\n",
    "# Get probabilistic predictions\n",
    "y_pred_proba = clf.predict_proba(X_test_scaled)\n",
    "\n",
    "# Look at probability distributions for first few samples\n",
    "print(\"\\nProbability distributions for first 10 test samples:\")\n",
    "prob_df = pd.DataFrame(\n",
    "    y_pred_proba, \n",
    "    columns=clf.classes_\n",
    ")\n",
    "print(prob_df.head(10))\n",
    "\n",
    "# Get class predictions\n",
    "y_pred = clf.predict(X_test_scaled)\n",
    "\n",
    "# Evaluate with metrics appropriate for multi-class\n",
    "print(\"\\nClassification Report:\")\n",
    "print(classification_report(y_test, y_pred))\n",
    "print(clf.classes_) # no encoding is needed"
   ]
  },
  {
   "cell_type": "code",
   "execution_count": 165,
   "metadata": {},
   "outputs": [
    {
     "name": "stdout",
     "output_type": "stream",
     "text": [
      "Starting hyperparameter tuning...\n",
      "Best parameters found:  {'C': 10, 'penalty': 'l2', 'solver': 'lbfgs'}\n",
      "Best cross-validation accuracy: 0.99\n",
      "\n",
      "Classification Report on Test Set:\n",
      "              precision    recall  f1-score   support\n",
      "\n",
      "      Adelie       1.00      1.00      1.00        31\n",
      "   Chinstrap       1.00      1.00      1.00        13\n",
      "      Gentoo       1.00      1.00      1.00        23\n",
      "\n",
      "    accuracy                           1.00        67\n",
      "   macro avg       1.00      1.00      1.00        67\n",
      "weighted avg       1.00      1.00      1.00        67\n",
      "\n"
     ]
    }
   ],
   "source": [
    "# Answer\n",
    "# for tuning of hyperparameters\n",
    "\n",
    "import pandas as pd\n",
    "import numpy as np\n",
    "from sklearn.model_selection import train_test_split, GridSearchCV\n",
    "from sklearn.linear_model import LogisticRegression\n",
    "from sklearn.metrics import classification_report\n",
    "\n",
    "# Define the grid of hyperparameters\n",
    "param_grid = {\n",
    "    'C': [0.01, 0.1, 1, 10, 100],\n",
    "    'penalty': ['l2'],\n",
    "    'solver': ['lbfgs']\n",
    "}\n",
    "\n",
    "# Create a Logistic Regression model\n",
    "log_reg = LogisticRegression(max_iter=1000)\n",
    "\n",
    "# Set up GridSearchCV\n",
    "grid_search = GridSearchCV(estimator=log_reg, param_grid=param_grid, cv=5, scoring='accuracy', n_jobs=-1)\n",
    "\n",
    "# Fit the grid search to the training data\n",
    "grid_search.fit(X_train_scaled, y_train)\n",
    "\n",
    "# Return best model and its parameters\n",
    "print(\"Best parameters found: \", grid_search.best_params_)\n",
    "print(\"Best cross-validation accuracy: {:.2f}\".format(grid_search.best_score_))\n",
    "best_model = grid_search.best_estimator_\n",
    "\n",
    "\n",
    "# Get class predictions using the best model found\n",
    "y_pred = best_model.predict(X_test_scaled)\n",
    "\n",
    "# Evaluate with metrics\n",
    "print(\"\\nClassification Report on Test Set:\")\n",
    "print(classification_report(y_test, y_pred))\n",
    "\n",
    "# Get probabilities\n",
    "y_pred_proba = best_model.predict_proba(X_test_scaled)"
   ]
  },
  {
   "cell_type": "code",
   "execution_count": 133,
   "metadata": {},
   "outputs": [
    {
     "name": "stdout",
     "output_type": "stream",
     "text": [
      "Original training labels: 230    Gentoo\n",
      "84     Adelie\n",
      "303    Gentoo\n",
      "22     Adelie\n",
      "29     Adelie\n",
      "Name: species, dtype: object\n",
      "Encoded training labels: [2 0 2 0 0]\n",
      "Mapping: ['Adelie', 'Chinstrap', 'Gentoo']\n",
      "\n",
      "Probability distributions for first 10 test samples:\n",
      "   Adelie  Chinstrap  Gentoo\n",
      "0    0.78       0.22    0.00\n",
      "1    0.00       0.00    1.00\n",
      "2    0.98       0.02    0.00\n",
      "3    0.02       0.97    0.01\n",
      "4    1.00       0.00    0.00\n",
      "5    0.00       0.00    1.00\n",
      "6    0.00       0.00    1.00\n",
      "7    0.02       0.98    0.00\n",
      "8    0.08       0.92    0.00\n",
      "9    0.03       0.97    0.00\n",
      "\n",
      "Classification Report:\n",
      "              precision    recall  f1-score   support\n",
      "\n",
      "      Adelie       1.00      1.00      1.00        31\n",
      "   Chinstrap       1.00      1.00      1.00        13\n",
      "      Gentoo       1.00      1.00      1.00        23\n",
      "\n",
      "    accuracy                           1.00        67\n",
      "   macro avg       1.00      1.00      1.00        67\n",
      "weighted avg       1.00      1.00      1.00        67\n",
      "\n"
     ]
    }
   ],
   "source": [
    "### ANSWER\n",
    "# model 2 formation: random forest classifier\n",
    "import pandas as pd\n",
    "import numpy as np\n",
    "from sklearn.model_selection import train_test_split\n",
    "from sklearn.preprocessing import LabelEncoder\n",
    "from sklearn.ensemble import RandomForestClassifier\n",
    "from sklearn.metrics import classification_report\n",
    "\n",
    "\n",
    "# Encode strings\n",
    "le = LabelEncoder()\n",
    "y_train_encoded = le.fit_transform(y_train)\n",
    "y_test_encoded = le.transform(y_test)\n",
    "\n",
    "print(\"Original training labels:\", y_train[:5])\n",
    "print(\"Encoded training labels:\", y_train_encoded[:5])\n",
    "print(\"Mapping:\", list(le.classes_))\n",
    "\n",
    "# Initialize the model\n",
    "clf2 = RandomForestClassifier(random_state=42)\n",
    "\n",
    "# Fit the model\n",
    "clf2.fit(X_train_scaled, y_train_encoded)\n",
    "\n",
    "# Get probabilistic predictions\n",
    "y_pred_proba = clf2.predict_proba(X_test_scaled)\n",
    "\n",
    "# Look at probability distributions using the encoder's classes for column names\n",
    "print(\"\\nProbability distributions for first 10 test samples:\")\n",
    "prob_df = pd.DataFrame(\n",
    "    y_pred_proba,\n",
    "    columns=le.classes_ \n",
    ")\n",
    "print(prob_df.head(10))\n",
    "\n",
    "# Get class predictions\n",
    "y_pred_encoded = clf2.predict(X_test_scaled)\n",
    "\n",
    "# Evaluate with metrics appropriate for multi-class\n",
    "print(\"\\nClassification Report:\")\n",
    "# Compare the true ENCODED labels with the predicted ENCODED labels\n",
    "print(classification_report(y_test_encoded, y_pred_encoded, target_names=le.classes_))\n",
    "\n"
   ]
  },
  {
   "cell_type": "markdown",
   "metadata": {},
   "source": [
    "✏️ **Answer:**\n",
    "\n",
    "Model Development\n",
    "Logistic regression is a good first step, but random forest models are potentially much more powerful, and on a data set this small are not limited by computational power.The models are compared to each other by evaluating precision, recall, and f1 score. The random forest performs perfectly, so there is nothing else to compare there.\n",
    "\n",
    "Results & Evaluation\n",
    "As said before, the random forest performs perfectly on this small dataset, and as such is better on every evaluation metric. While the forest cannot be improved, it would be interesting to see if its performace held up when fed more data. Logistic regression, however, can still be tuned, and could be important if the dataset is large enough that the random forest is no longer convienient.\n",
    "\n",
    "\n"
   ]
  },
  {
   "cell_type": "code",
   "execution_count": 161,
   "metadata": {
    "scrolled": true
   },
   "outputs": [
    {
     "data": {
      "image/png": "[encoded data removed]",
      "text/plain": [
       "<Figure size 1000x600 with 1 Axes>"
      ]
     },
     "metadata": {},
     "output_type": "display_data"
    },
    {
     "data": {
      "image/png": "[encoded data removed]",
      "text/plain": [
       "<Figure size 800x600 with 2 Axes>"
      ]
     },
     "metadata": {},
     "output_type": "display_data"
    }
   ],
   "source": [
    "# Answer\n",
    "# Access the feature importances for the random forest\n",
    "\n",
    "# Get importance scores from the trained model\n",
    "importances = clf2.feature_importances_\n",
    "\n",
    "# Create a pandas DataFrame for easier visualization\n",
    "forest_importances = pd.Series(importances,index=features_with_sex)\n",
    "\n",
    "# Sort the features by importance\n",
    "sorted_importances = forest_importances.sort_values(ascending=True)\n",
    "\n",
    "# Plot the feature importances\n",
    "fig, ax = plt.subplots(figsize=(10, 6))\n",
    "sorted_importances.plot.barh(ax=ax)\n",
    "ax.set_title(\"Feature Importances from Random Forest\")\n",
    "ax.set_xlabel(\"Mean Decrease in Impurity\")\n",
    "fig.tight_layout()\n",
    "plt.show()\n",
    "\n",
    "# Calculate the confusion matrix\n",
    "cm = confusion_matrix(y_test_encoded, y_pred_encoded)\n",
    "\n",
    "# Plot the confusion matrix\n",
    "plt.figure(figsize=(8, 6))\n",
    "sns.heatmap(cm, annot=True, fmt='d', cmap='Blues',\n",
    "            xticklabels=le.classes_, yticklabels=le.classes_)\n",
    "plt.ylabel('Actual')\n",
    "plt.xlabel('Predicted')\n",
    "plt.title('Confusion Matrix')\n",
    "plt.show()"
   ]
  },
  {
   "cell_type": "markdown",
   "metadata": {},
   "source": [
    "---\n",
    "## Congratulations, you're done!\n",
    "\n",
    "### 🛑 IMPORTANT: Before Submission\n",
    "\n",
    "**STOP!** Before submitting your notebook, please follow these steps:\n",
    "\n",
    "### Step 1: Restart Your Kernel\n",
    "\n",
    "### Step 2: Run All Cells\n",
    "\n",
    "### Step 3: Verify Everything Works\n",
    "\n",
    "Check that all cells execute without errors and produce the expected output\n",
    "\n",
    "This ensures that your notebook will run correctly when graded and that you haven't missed any dependencies or variable definitions that might exist only in your current session.\n",
    "\n",
    "*Your submission will be tested in a fresh environment, so this step is crucial for full credit!*\n",
    "\n",
    "\n",
    "### Step 4: Submit \n",
    "Submit this assignment by uploading your notebook to the course Desire2Learn web page.  Go to the \"Homework\" folder, find the appropriate submission link, and upload everything there. Make sure your name is on it!\n"
   ]
  },
  {
   "cell_type": "markdown",
   "metadata": {},
   "source": [
    "&#169; Copyright 2025, Department of Computational Mathematics, Science and Engineering at Michigan State University."
   ]
  }
 ],
 "metadata": {
  "kernelspec": {
   "display_name": "Python [conda env:CMSE]",
   "language": "python",
   "name": "conda-env-CMSE-py"
  },
  "language_info": {
   "codemirror_mode": {
    "name": "ipython",
    "version": 3
   },
   "file_extension": ".py",
   "mimetype": "text/x-python",
   "name": "python",
   "nbconvert_exporter": "python",
   "pygments_lexer": "ipython3",
   "version": "3.12.11"
  }
 },
 "nbformat": 4,
 "nbformat_minor": 4
}
