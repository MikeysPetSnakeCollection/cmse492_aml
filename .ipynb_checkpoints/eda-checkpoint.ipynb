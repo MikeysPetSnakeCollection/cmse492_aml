{
 "cells": [
  {
   "cell_type": "code",
   "execution_count": null,
   "id": "cea1057c-982d-4cfe-bd3c-9fa8a49e73a5",
   "metadata": {},
   "outputs": [],
   "source": [
    "#Geographic Data Visualization\n",
    "\n",
    "\n",
    "\n",
    "#Geographical data plots\n",
    "housing.plot(kind=\"scatter\", x=\"longitude\", y=\"latitude\", grid=True, alpha=0.2)\n",
    "plt.show()\n",
    "\n"
   ]
  },
  {
   "cell_type": "code",
   "execution_count": null,
   "id": "ae857edb-1600-4082-aed1-4294fe44dcbb",
   "metadata": {},
   "outputs": [],
   "source": [
    "#Feature Correlation Analysis\n",
    "\n",
    "\n",
    "#Correlation Matrix\n",
    "corr_matrix = housing.corr()\n",
    "corr_matrix[\"median_house_value\"].sort_values(ascending=False)\n",
    "\n",
    "#Scatter Matrix\n",
    "from pandas.plotting import scatter_matrix\n",
    " attributes = [\"median_house_value\", \"median_income\", \"total_rooms\",\n",
    " \"housing_median_age\"]\n",
    " scatter_matrix(housing[attributes], figsize=(12, 8))\n",
    "plt.show()\n",
    "\n"
   ]
  },
  {
   "cell_type": "code",
   "execution_count": null,
   "id": "c9808133-3acc-42ac-a1e5-703dd2010c3a",
   "metadata": {},
   "outputs": [],
   "source": [
    "#Feature Engineering and Creation\n",
    "# cluster similarities, incorporate clusters into data\n",
    "\n",
    "\n",
    "\n",
    "\n",
    "\n"
   ]
  }
 ],
 "metadata": {
  "kernelspec": {
   "display_name": "Python [conda env:CMSE]",
   "language": "python",
   "name": "conda-env-CMSE-py"
  },
  "language_info": {
   "codemirror_mode": {
    "name": "ipython",
    "version": 3
   },
   "file_extension": ".py",
   "mimetype": "text/x-python",
   "name": "python",
   "nbconvert_exporter": "python",
   "pygments_lexer": "ipython3",
   "version": "3.12.11"
  }
 },
 "nbformat": 4,
 "nbformat_minor": 5
}
