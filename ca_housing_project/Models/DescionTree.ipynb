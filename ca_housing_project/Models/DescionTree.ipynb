{
 "cells": [
  {
   "cell_type": "code",
   "execution_count": null,
   "id": "a1551437-3017-4334-85f4-2ae61a1684a5",
   "metadata": {},
   "outputs": [],
   "source": [
    "# Data Loading\n",
    "\n",
    "Read the cleaned/processed dataset (24 features)\n",
    "No pipelines needed since data is already preprocessed\n",
    "\n",
    "\n",
    "\n"
   ]
  },
  {
   "cell_type": "code",
   "execution_count": null,
   "id": "d7355df3-2184-4672-878b-d56639c4abab",
   "metadata": {},
   "outputs": [],
   "source": [
    "# Model Fitting\n",
    "\n",
    "Initialize and fit the specific model\n",
    "Display basic training results"
   ]
  },
  {
   "cell_type": "code",
   "execution_count": null,
   "id": "fea25806-2f61-418c-8038-959f467ef997",
   "metadata": {},
   "outputs": [],
   "source": [
    "# Cross-Validation\n",
    "\n",
    "Implement cross-validation evaluation\n",
    "Display CV scores and statistics"
   ]
  },
  {
   "cell_type": "code",
   "execution_count": null,
   "id": "529252c4-cb4b-4a00-a8d0-20562424ee0a",
   "metadata": {},
   "outputs": [],
   "source": [
    "# Hyperparameter Tuning\n",
    "\n",
    "Use GridSearchCV or RandomizedSearchCV\n",
    "Show best parameters and improved performance"
   ]
  },
  {
   "cell_type": "code",
   "execution_count": null,
   "id": "5ffea02f-f9a1-4b08-b52c-a1b682632039",
   "metadata": {},
   "outputs": [],
   "source": [
    "# Model Saving\n",
    "\n",
    "Save the trained model to the /models directory\n",
    "Use appropriate naming convention (e.g., linear_regression_model.pkl)"
   ]
  }
 ],
 "metadata": {
  "kernelspec": {
   "display_name": "Python [conda env:CMSE]",
   "language": "python",
   "name": "conda-env-CMSE-py"
  },
  "language_info": {
   "codemirror_mode": {
    "name": "ipython",
    "version": 3
   },
   "file_extension": ".py",
   "mimetype": "text/x-python",
   "name": "python",
   "nbconvert_exporter": "python",
   "pygments_lexer": "ipython3",
   "version": "3.12.11"
  }
 },
 "nbformat": 4,
 "nbformat_minor": 5
}
